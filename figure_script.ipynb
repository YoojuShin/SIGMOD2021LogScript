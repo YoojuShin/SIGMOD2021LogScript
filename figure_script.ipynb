{
 "cells": [
  {
   "cell_type": "code",
   "execution_count": 96,
   "metadata": {},
   "outputs": [],
   "source": [
    "import os\n",
    "import numpy as np\n",
    "import pandas as pd\n",
    "import matplotlib.pyplot as plt\n",
    "\n",
    "plt.rcParams[\"font.family\"] = \"serif\"\n",
    "plt.rcParams['hatch.linewidth'] = 1.5\n",
    "\n",
    "dataset = [\"STK\",\"TAO\",\"HPC\",\"GAS\",\"EM\",\"FC\"]\n",
    "\n",
    "algo_color = {'NAIVE': 'grey',\n",
    "              'SOP': '#4BACC6',\n",
    "              'pMCSKY': '#1F497D',\n",
    "              'OURS-Q': '#F79646',\n",
    "              'OURS-D': '#9BBB59',\n",
    "              'OURS': '#C0504D'}\n",
    "\n",
    "algo_hatch = {'NAIVE': '||',\n",
    "              'SOP': '++',\n",
    "              'pMCSKY': 'xx',\n",
    "              'OURS-Q': '--',\n",
    "              'OURS-D': '//',\n",
    "              'OURS': '\\\\\\\\\\\\'}\n",
    "\n",
    "algo_line = {'NAIVE': '-',\n",
    "              'SOP': '--',\n",
    "              'pMCSKY': '-.',\n",
    "              'OURS-Q': '--',\n",
    "              'OURS-D': '--',\n",
    "              'OURS': '-'}\n",
    "\n",
    "algo_marker = {'NAIVE': '',\n",
    "              'SOP': 's',\n",
    "              'pMCSKY': '^',\n",
    "              'OURS-Q': 'x',\n",
    "              'OURS-D': 'x',\n",
    "              'OURS': 'x'}\n",
    "\n",
    "\n",
    "basic_linewidth = 3\n",
    "algo_linewidth = {'NAIVE': basic_linewidth/2,\n",
    "                  'SOP': basic_linewidth/2,\n",
    "                  'pMCSKY': basic_linewidth/2,\n",
    "                  'OURS-Q': basic_linewidth/2,\n",
    "                  'OURS-D': basic_linewidth/2,\n",
    "                  'OURS': basic_linewidth}\n",
    "\n",
    "# Overall Bar Plot Parameters\n",
    "barWidth = 0.75\n",
    "FONTSIZE_TICK=13\n",
    "FONTSIZE_XLABEL=18\n",
    "FONTSIZE_YLABEL=13\n",
    "intra_bar_space = 1.2\n",
    "inter_bar_space = 2\n",
    "figsize_overall=(10,2)\n",
    "target_alg_overall = ['SOP','pMCSKY','OURS']\n",
    "\n",
    "# Line Plot parameters\n",
    "figsize_vp = (5,2)\n",
    "target_alg_vp = ['SOP','pMCSKY','OURS']\n",
    "FONTSIZE_TICK_vp=10\n",
    "FONTSIZE_XLABEL_vp=12\n",
    "FONTSIZE_YLABEL_vp=14\n",
    "\n",
    "# stationarity Plot parameters\n",
    "figsize_stationarity = (2,2)\n",
    "target_alg_stationarity = ['SOP','pMCSKY','OURS']\n",
    "FONTSIZE_TICK_stationarity=8\n",
    "FONTSIZE_XLABEL_stationarity=12\n",
    "FONTSIZE_YLABEL_stationarity=12\n",
    "\n",
    "# Unified\n",
    "barWidth_unified = 0.375\n",
    "figsize_unified = (5,1)\n",
    "target_alg_unified = ['NAIVE','SOP','pMCSKY','OURS-Q','OURS-D','OURS']\n",
    "FONTSIZE_TICK_unified=7\n",
    "FONTSIZE_XLABEL_unified=10\n",
    "FONTSIZE_YLABEL_unified=7\n",
    "intra_bar_space_unified = 1.3\n",
    "inter_bar_space_unified = 2.1"
   ]
  },
  {
   "cell_type": "code",
   "execution_count": 97,
   "metadata": {},
   "outputs": [
    {
     "name": "stdout",
     "output_type": "stream",
     "text": [
      "   Dataset  Queryset  ChgQRatio  Method paramKey      Time  AvgMem  PeakMem  \\\n",
      "0       EM   EM_Q100        0.1    OURS        K    77.196    1.98     25.2   \n",
      "1       EM   EM_Q100        0.1    OURS        R    61.794    1.70     22.2   \n",
      "2       EM   EM_Q100        0.1    OURS        S    15.586    1.50     25.8   \n",
      "3       EM   EM_Q100        0.1    OURS        W   158.502   13.40     35.6   \n",
      "4       EM   EM_Q100        0.1     SOP        K   244.284    9.74     27.0   \n",
      "..     ...       ...        ...     ...      ...       ...     ...      ...   \n",
      "67     TAO  TAO_Q100        0.1     SOP        W  2030.936   62.00     72.0   \n",
      "68     TAO  TAO_Q100        0.1  pMCSKY        K    31.384    3.00     12.8   \n",
      "69     TAO  TAO_Q100        0.1  pMCSKY        R    23.052    1.00     10.0   \n",
      "70     TAO  TAO_Q100        0.1  pMCSKY        S     3.324    1.00     10.0   \n",
      "71     TAO  TAO_Q100        0.1  pMCSKY        W  2248.588    6.00     16.0   \n",
      "\n",
      "     #Out   #OutQ  \n",
      "0   260.0  8812.0  \n",
      "1     0.0     0.0  \n",
      "2     0.0     1.0  \n",
      "3     0.0     0.0  \n",
      "4   260.0  8812.0  \n",
      "..    ...     ...  \n",
      "67   73.0  2947.0  \n",
      "68   43.0  2417.0  \n",
      "69    4.0    84.0  \n",
      "70    6.0   162.0  \n",
      "71   73.0  2946.0  \n",
      "\n",
      "[72 rows x 10 columns]\n"
     ]
    }
   ],
   "source": [
    "fileList = ['result_default_numQuery','result_varyingParams','result_varyingStatRatio','result_varingGrouping_STK_TAO_HPC','result_varingGrouping_GAS_EM_FC']\n",
    "\n",
    "def preprocessing(path):\n",
    "    headerf = open(path+\".txt\")\n",
    "    header = headerf.readline()\n",
    "    header = \"\\t\".join(header.split())\n",
    "    w=open(os.getcwd()+\"/\"+path+\"_separated.csv\",'w')\n",
    "    w.write(header+\"\\n\")\n",
    "\n",
    "    f=open(path+\".txt\",'r')\n",
    "    i = -1\n",
    "    for line in f.readlines():\n",
    "        i += 1\n",
    "        if (len(line.split())<9) or (i<1):\n",
    "            continue\n",
    "        tab_sep_line = \"\\t\".join(line.split())\n",
    "        w.write(tab_sep_line+\"\\n\")\n",
    "    w.close()\n",
    "    dataframe = pd.read_csv(os.getcwd()+\"/\"+path+\"_separated.csv\", sep=\"\\t\")\n",
    "    dataframe = dataframe.groupby([\"Dataset\",\"Queryset\",\"ChgQRatio\",\"Method\"]).mean()\n",
    "    dataframe.reset_index(inplace=True)\n",
    "    return dataframe   \n",
    "#\n",
    "# df = preprocessing('result_default_numQuery')\n",
    "# print(df)\n",
    "\n",
    "def preprocessing_params(path,n_trials=5):\n",
    "    headerf = open(path+\".txt\")\n",
    "    header = headerf.readline()\n",
    "    header = \"\\t\".join(header.split())\n",
    "    w=open(os.getcwd()+\"/\"+path+\"_separated.csv\",'w')\n",
    "    w.write(header+\"\\tparamKey\"+\"\\n\")\n",
    "\n",
    "    f=open(path+\".txt\",'r')\n",
    "    i = -1\n",
    "    for line in f.readlines():\n",
    "        i += 1\n",
    "        if (i<2):\n",
    "            continue\n",
    "        if 'Varying R' in line:\n",
    "            param_key = \"R\"\n",
    "            continue\n",
    "        elif 'Varying K' in line:\n",
    "            param_key = \"K\"\n",
    "            continue\n",
    "        elif 'Varying W' in line:\n",
    "            param_key = \"W\"\n",
    "            continue\n",
    "        elif 'Varying S' in line:\n",
    "            param_key = \"S\"\n",
    "            continue\n",
    "\n",
    "        line += \"\\t\" + param_key\n",
    "        tab_sep_line = \"\\t\".join(line.split())\n",
    "        w.write(tab_sep_line+\"\\n\")\n",
    "    w.close()\n",
    "    dataframe = pd.read_csv(os.getcwd()+\"/\"+path+\"_separated.csv\", sep=\"\\t\")\n",
    "    dataframe = dataframe.groupby([\"Dataset\",\"Queryset\",\"ChgQRatio\",\"Method\",\"paramKey\"]).mean()\n",
    "    dataframe.reset_index(inplace=True)\n",
    "    return dataframe\n",
    "df = preprocessing_params('result_varyingParams')\n",
    "print(df)"
   ]
  },
  {
   "cell_type": "markdown",
   "source": [
    "# Overall Performance\n",
    "###### queryNumber=100, ChgQRatio>0, targetAlgorithm = SOP, pMCSKY, OURS\n",
    "\n",
    "## Overall Cpu Time\n"
   ],
   "metadata": {
    "collapsed": false
   }
  },
  {
   "cell_type": "code",
   "execution_count": 98,
   "outputs": [
    {
     "name": "stdout",
     "output_type": "stream",
     "text": [
      "   Dataset   Queryset  ChgQRatio  Method       Time  AvgMem  PeakMem   #Out  \\\n",
      "0      STK     STK_Q1        0.0   NAIVE      75.69     3.0      3.0   1235   \n",
      "1      STK     STK_Q1        0.0    OURS       2.57     5.0      5.0   1235   \n",
      "2      STK     STK_Q1        0.0  OURS-D       4.45     5.0      5.0   1235   \n",
      "3      STK     STK_Q1        0.0  OURS-Q      11.63     5.0      5.0   1235   \n",
      "4      STK     STK_Q1        0.0     SOP      52.59     9.0      9.0   1235   \n",
      "5      STK     STK_Q1        0.0  pMCSKY      59.03     6.0      7.0   1203   \n",
      "6      STK     STK_Q1        0.1   NAIVE      75.69     3.0      3.0   1235   \n",
      "7      STK     STK_Q1        0.1    OURS       1.67     5.0      5.0   1235   \n",
      "8      STK     STK_Q1        0.1  OURS-D       3.40     5.0      5.0   1235   \n",
      "9      STK     STK_Q1        0.1  OURS-Q      10.81     5.0      5.0   1235   \n",
      "10     STK     STK_Q1        0.1     SOP      52.00     9.0      9.0   1235   \n",
      "11     STK     STK_Q1        0.1  pMCSKY      59.52     6.0      7.0   1203   \n",
      "12     STK    STK_Q10        0.0   NAIVE    1365.14     3.0      3.0   1720   \n",
      "13     STK    STK_Q10        0.0    OURS       4.90     5.0      5.0   1720   \n",
      "14     STK    STK_Q10        0.0  OURS-D      12.88     5.0      5.0   1720   \n",
      "15     STK    STK_Q10        0.0  OURS-Q      50.89     5.0      5.0   1720   \n",
      "16     STK    STK_Q10        0.0     SOP     410.95    81.7     85.0   1720   \n",
      "17     STK    STK_Q10        0.0  pMCSKY     396.07    74.6     80.0   1720   \n",
      "18     STK    STK_Q10        0.1   NAIVE    2506.20     3.0      3.0   2449   \n",
      "19     STK    STK_Q10        0.1    OURS       5.56     5.0      5.0   2449   \n",
      "20     STK    STK_Q10        0.1  OURS-D      11.44     5.0      6.0   2449   \n",
      "21     STK    STK_Q10        0.1  OURS-Q      98.61     5.0      5.0   2449   \n",
      "22     STK    STK_Q10        0.1     SOP    2635.26    92.5    106.0   2449   \n",
      "23     STK    STK_Q10        0.1  pMCSKY    2474.76    64.9     90.0   2449   \n",
      "24     STK   STK_Q100        0.0   NAIVE   17886.19     3.0      4.0  16397   \n",
      "25     STK   STK_Q100        0.0    OURS      19.89     5.0      5.0  16397   \n",
      "26     STK   STK_Q100        0.0  OURS-D      66.03     5.0      6.0  16397   \n",
      "27     STK   STK_Q100        0.0  OURS-Q     689.32     5.0      6.0  16397   \n",
      "28     STK   STK_Q100        0.0     SOP    3551.09   176.9    190.0  16397   \n",
      "29     STK   STK_Q100        0.0  pMCSKY    3454.77   135.9    151.0  16397   \n",
      "30     STK   STK_Q100        0.1   NAIVE   18366.13     3.0      4.0  13557   \n",
      "31     STK   STK_Q100        0.1    OURS      13.97     5.0      5.0  13558   \n",
      "32     STK   STK_Q100        0.1  OURS-D      55.36     5.0      6.0  13558   \n",
      "33     STK   STK_Q100        0.1  OURS-Q     867.84     5.0      6.0  13557   \n",
      "34     STK   STK_Q100        0.1     SOP   16442.15   181.1    195.0  13557   \n",
      "35     STK   STK_Q100        0.1  pMCSKY   16418.08   120.4    139.0  13557   \n",
      "36     STK  STK_Q1000        0.0   NAIVE  154130.30     4.0      5.0  41392   \n",
      "37     STK  STK_Q1000        0.0    OURS     112.13     6.0      7.0  41392   \n",
      "38     STK  STK_Q1000        0.0  OURS-D     544.15     6.0      7.0  41392   \n",
      "39     STK  STK_Q1000        0.0  OURS-Q    2817.12     6.0      6.0  41392   \n",
      "40     STK  STK_Q1000        0.0     SOP   30648.39   672.6    676.0  41392   \n",
      "41     STK  STK_Q1000        0.0  pMCSKY   27947.74   155.7    173.0  41392   \n",
      "42     STK  STK_Q1000        0.1   NAIVE  225318.14     3.7      4.0  41657   \n",
      "43     STK  STK_Q1000        0.1    OURS     237.33     5.7      7.0  41657   \n",
      "44     STK  STK_Q1000        0.1  OURS-D    1091.22     5.8      6.0  41657   \n",
      "45     STK  STK_Q1000        0.1  OURS-Q    4495.00     5.9     11.0  41657   \n",
      "46     STK  STK_Q1000        0.1     SOP  122838.13   682.1    689.0  41657   \n",
      "47     STK  STK_Q1000        0.1  pMCSKY  138780.55   145.6    167.0  41657   \n",
      "\n",
      "     #OutQ  \n",
      "0     1235  \n",
      "1     1235  \n",
      "2     1235  \n",
      "3     1235  \n",
      "4     1235  \n",
      "5     1203  \n",
      "6     1235  \n",
      "7     1235  \n",
      "8     1235  \n",
      "9     1235  \n",
      "10    1235  \n",
      "11    1203  \n",
      "12    2429  \n",
      "13    2429  \n",
      "14    2429  \n",
      "15    2429  \n",
      "16    2429  \n",
      "17    2429  \n",
      "18    3537  \n",
      "19    3537  \n",
      "20    3537  \n",
      "21    3537  \n",
      "22    3537  \n",
      "23    3537  \n",
      "24   51082  \n",
      "25   51082  \n",
      "26   51082  \n",
      "27   51082  \n",
      "28   51082  \n",
      "29   51082  \n",
      "30   40622  \n",
      "31   40623  \n",
      "32   40623  \n",
      "33   40622  \n",
      "34   40622  \n",
      "35   40622  \n",
      "36  351385  \n",
      "37  351385  \n",
      "38  351385  \n",
      "39  351385  \n",
      "40  351385  \n",
      "41  351385  \n",
      "42  367605  \n",
      "43  367605  \n",
      "44  367605  \n",
      "45  367605  \n",
      "46  367605  \n",
      "47  367605  \n"
     ]
    }
   ],
   "source": [
    "df = preprocessing(\"STK\")\n",
    "print(df)"
   ],
   "metadata": {
    "collapsed": false,
    "pycharm": {
     "name": "#%%\n"
    }
   }
  },
  {
   "cell_type": "code",
   "execution_count": 99,
   "outputs": [
    {
     "ename": "KeyError",
     "evalue": "\"None of [Index(['SOP', 'pMCSKY', 'OURS'], dtype='object', name='Method')] are in the [columns]\"",
     "output_type": "error",
     "traceback": [
      "\u001B[1;31m---------------------------------------------------------------------------\u001B[0m",
      "\u001B[1;31mKeyError\u001B[0m                                  Traceback (most recent call last)",
      "\u001B[1;32m<ipython-input-99-f0e27ca28ed1>\u001B[0m in \u001B[0;36m<module>\u001B[1;34m\u001B[0m\n\u001B[0;32m      8\u001B[0m \u001B[1;32mfor\u001B[0m \u001B[0mdataname\u001B[0m \u001B[1;32min\u001B[0m \u001B[0mdataset_\u001B[0m\u001B[1;33m:\u001B[0m\u001B[1;33m\u001B[0m\u001B[1;33m\u001B[0m\u001B[0m\n\u001B[0;32m      9\u001B[0m     \u001B[0mgraphdf\u001B[0m \u001B[1;33m=\u001B[0m \u001B[0mpd\u001B[0m\u001B[1;33m.\u001B[0m\u001B[0mconcat\u001B[0m\u001B[1;33m(\u001B[0m\u001B[1;33m[\u001B[0m\u001B[0mgraphdf\u001B[0m\u001B[1;33m,\u001B[0m \u001B[0mdf\u001B[0m\u001B[1;33m.\u001B[0m\u001B[0mloc\u001B[0m\u001B[1;33m[\u001B[0m\u001B[1;33m(\u001B[0m\u001B[0mdf\u001B[0m\u001B[1;33m[\u001B[0m\u001B[1;34m\"Dataset\"\u001B[0m\u001B[1;33m]\u001B[0m\u001B[1;33m==\u001B[0m\u001B[0mdataname\u001B[0m\u001B[1;33m)\u001B[0m\u001B[1;33m&\u001B[0m\u001B[1;33m(\u001B[0m\u001B[0mdf\u001B[0m\u001B[1;33m[\u001B[0m\u001B[1;34m\"Queryset\"\u001B[0m\u001B[1;33m]\u001B[0m\u001B[1;33m.\u001B[0m\u001B[0mstr\u001B[0m\u001B[1;33m.\u001B[0m\u001B[0mcontains\u001B[0m\u001B[1;33m(\u001B[0m\u001B[1;34mr\"\\_Q100$\"\u001B[0m\u001B[1;33m)\u001B[0m\u001B[1;33m)\u001B[0m \u001B[1;33m&\u001B[0m \u001B[1;33m(\u001B[0m\u001B[0mdf\u001B[0m\u001B[1;33m[\u001B[0m\u001B[1;34m'ChgQRatio'\u001B[0m\u001B[1;33m]\u001B[0m\u001B[1;33m==\u001B[0m\u001B[1;36m0\u001B[0m\u001B[1;33m)\u001B[0m\u001B[1;33m]\u001B[0m\u001B[1;33m.\u001B[0m\u001B[0mpivot\u001B[0m\u001B[1;33m(\u001B[0m\u001B[0mindex\u001B[0m\u001B[1;33m=\u001B[0m\u001B[1;34m\"Dataset\"\u001B[0m\u001B[1;33m,\u001B[0m\u001B[0mcolumns\u001B[0m\u001B[1;33m=\u001B[0m\u001B[1;34m\"Method\"\u001B[0m\u001B[1;33m,\u001B[0m\u001B[0mvalues\u001B[0m\u001B[1;33m=\u001B[0m\u001B[1;34m\"Time\"\u001B[0m\u001B[1;33m)\u001B[0m\u001B[1;33m]\u001B[0m\u001B[1;33m)\u001B[0m\u001B[1;33m\u001B[0m\u001B[1;33m\u001B[0m\u001B[0m\n\u001B[1;32m---> 10\u001B[1;33m \u001B[0mgraphdf\u001B[0m \u001B[1;33m=\u001B[0m \u001B[0mgraphdf\u001B[0m\u001B[1;33m[\u001B[0m\u001B[0mtarget_alg_overall\u001B[0m\u001B[1;33m]\u001B[0m\u001B[1;33m\u001B[0m\u001B[1;33m\u001B[0m\u001B[0m\n\u001B[0m\u001B[0;32m     11\u001B[0m \u001B[1;33m\u001B[0m\u001B[0m\n\u001B[0;32m     12\u001B[0m \u001B[0mgraphdf\u001B[0m \u001B[1;33m=\u001B[0m \u001B[0mgraphdf\u001B[0m\u001B[1;33m.\u001B[0m\u001B[0mreindex\u001B[0m\u001B[1;33m(\u001B[0m\u001B[0mindex\u001B[0m\u001B[1;33m=\u001B[0m\u001B[0mdataset\u001B[0m\u001B[1;33m)\u001B[0m\u001B[1;33m\u001B[0m\u001B[1;33m\u001B[0m\u001B[0m\n",
      "\u001B[1;32mc:\\users\\yooju shin\\pycharmprojects\\sigmod2021logscript\\venv\\lib\\site-packages\\pandas\\core\\frame.py\u001B[0m in \u001B[0;36m__getitem__\u001B[1;34m(self, key)\u001B[0m\n\u001B[0;32m   2804\u001B[0m             \u001B[1;32mif\u001B[0m \u001B[0mis_iterator\u001B[0m\u001B[1;33m(\u001B[0m\u001B[0mkey\u001B[0m\u001B[1;33m)\u001B[0m\u001B[1;33m:\u001B[0m\u001B[1;33m\u001B[0m\u001B[1;33m\u001B[0m\u001B[0m\n\u001B[0;32m   2805\u001B[0m                 \u001B[0mkey\u001B[0m \u001B[1;33m=\u001B[0m \u001B[0mlist\u001B[0m\u001B[1;33m(\u001B[0m\u001B[0mkey\u001B[0m\u001B[1;33m)\u001B[0m\u001B[1;33m\u001B[0m\u001B[1;33m\u001B[0m\u001B[0m\n\u001B[1;32m-> 2806\u001B[1;33m             \u001B[0mindexer\u001B[0m \u001B[1;33m=\u001B[0m \u001B[0mself\u001B[0m\u001B[1;33m.\u001B[0m\u001B[0mloc\u001B[0m\u001B[1;33m.\u001B[0m\u001B[0m_get_listlike_indexer\u001B[0m\u001B[1;33m(\u001B[0m\u001B[0mkey\u001B[0m\u001B[1;33m,\u001B[0m \u001B[0maxis\u001B[0m\u001B[1;33m=\u001B[0m\u001B[1;36m1\u001B[0m\u001B[1;33m,\u001B[0m \u001B[0mraise_missing\u001B[0m\u001B[1;33m=\u001B[0m\u001B[1;32mTrue\u001B[0m\u001B[1;33m)\u001B[0m\u001B[1;33m[\u001B[0m\u001B[1;36m1\u001B[0m\u001B[1;33m]\u001B[0m\u001B[1;33m\u001B[0m\u001B[1;33m\u001B[0m\u001B[0m\n\u001B[0m\u001B[0;32m   2807\u001B[0m \u001B[1;33m\u001B[0m\u001B[0m\n\u001B[0;32m   2808\u001B[0m         \u001B[1;31m# take() does not accept boolean indexers\u001B[0m\u001B[1;33m\u001B[0m\u001B[1;33m\u001B[0m\u001B[1;33m\u001B[0m\u001B[0m\n",
      "\u001B[1;32mc:\\users\\yooju shin\\pycharmprojects\\sigmod2021logscript\\venv\\lib\\site-packages\\pandas\\core\\indexing.py\u001B[0m in \u001B[0;36m_get_listlike_indexer\u001B[1;34m(self, key, axis, raise_missing)\u001B[0m\n\u001B[0;32m   1550\u001B[0m             \u001B[0mkeyarr\u001B[0m\u001B[1;33m,\u001B[0m \u001B[0mindexer\u001B[0m\u001B[1;33m,\u001B[0m \u001B[0mnew_indexer\u001B[0m \u001B[1;33m=\u001B[0m \u001B[0max\u001B[0m\u001B[1;33m.\u001B[0m\u001B[0m_reindex_non_unique\u001B[0m\u001B[1;33m(\u001B[0m\u001B[0mkeyarr\u001B[0m\u001B[1;33m)\u001B[0m\u001B[1;33m\u001B[0m\u001B[1;33m\u001B[0m\u001B[0m\n\u001B[0;32m   1551\u001B[0m \u001B[1;33m\u001B[0m\u001B[0m\n\u001B[1;32m-> 1552\u001B[1;33m         self._validate_read_indexer(\n\u001B[0m\u001B[0;32m   1553\u001B[0m             \u001B[0mkeyarr\u001B[0m\u001B[1;33m,\u001B[0m \u001B[0mindexer\u001B[0m\u001B[1;33m,\u001B[0m \u001B[0mo\u001B[0m\u001B[1;33m.\u001B[0m\u001B[0m_get_axis_number\u001B[0m\u001B[1;33m(\u001B[0m\u001B[0maxis\u001B[0m\u001B[1;33m)\u001B[0m\u001B[1;33m,\u001B[0m \u001B[0mraise_missing\u001B[0m\u001B[1;33m=\u001B[0m\u001B[0mraise_missing\u001B[0m\u001B[1;33m\u001B[0m\u001B[1;33m\u001B[0m\u001B[0m\n\u001B[0;32m   1554\u001B[0m         )\n",
      "\u001B[1;32mc:\\users\\yooju shin\\pycharmprojects\\sigmod2021logscript\\venv\\lib\\site-packages\\pandas\\core\\indexing.py\u001B[0m in \u001B[0;36m_validate_read_indexer\u001B[1;34m(self, key, indexer, axis, raise_missing)\u001B[0m\n\u001B[0;32m   1638\u001B[0m             \u001B[1;32mif\u001B[0m \u001B[0mmissing\u001B[0m \u001B[1;33m==\u001B[0m \u001B[0mlen\u001B[0m\u001B[1;33m(\u001B[0m\u001B[0mindexer\u001B[0m\u001B[1;33m)\u001B[0m\u001B[1;33m:\u001B[0m\u001B[1;33m\u001B[0m\u001B[1;33m\u001B[0m\u001B[0m\n\u001B[0;32m   1639\u001B[0m                 \u001B[0maxis_name\u001B[0m \u001B[1;33m=\u001B[0m \u001B[0mself\u001B[0m\u001B[1;33m.\u001B[0m\u001B[0mobj\u001B[0m\u001B[1;33m.\u001B[0m\u001B[0m_get_axis_name\u001B[0m\u001B[1;33m(\u001B[0m\u001B[0maxis\u001B[0m\u001B[1;33m)\u001B[0m\u001B[1;33m\u001B[0m\u001B[1;33m\u001B[0m\u001B[0m\n\u001B[1;32m-> 1640\u001B[1;33m                 \u001B[1;32mraise\u001B[0m \u001B[0mKeyError\u001B[0m\u001B[1;33m(\u001B[0m\u001B[1;34mf\"None of [{key}] are in the [{axis_name}]\"\u001B[0m\u001B[1;33m)\u001B[0m\u001B[1;33m\u001B[0m\u001B[1;33m\u001B[0m\u001B[0m\n\u001B[0m\u001B[0;32m   1641\u001B[0m \u001B[1;33m\u001B[0m\u001B[0m\n\u001B[0;32m   1642\u001B[0m             \u001B[1;31m# We (temporarily) allow for some missing keys with .loc, except in\u001B[0m\u001B[1;33m\u001B[0m\u001B[1;33m\u001B[0m\u001B[1;33m\u001B[0m\u001B[0m\n",
      "\u001B[1;31mKeyError\u001B[0m: \"None of [Index(['SOP', 'pMCSKY', 'OURS'], dtype='object', name='Method')] are in the [columns]\""
     ]
    }
   ],
   "source": [
    "df = preprocessing(\"result_default_numQuery\")\n",
    "\n",
    "dataset_ = dataset.copy()\n",
    "dataname = dataset_.pop()\n",
    "graphdf = df.loc[(df[\"Dataset\"]==dataname)&(df[\"Queryset\"].str.contains(r\"\\_Q100$\")) \\\n",
    "                 & (df['ChgQRatio']>0)].pivot(index=\"Dataset\",columns=\"Method\",values=\"Time\")\n",
    "\n",
    "for dataname in dataset_:\n",
    "    graphdf = pd.concat([graphdf, df.loc[(df[\"Dataset\"]==dataname)&(df[\"Queryset\"].str.contains(r\"\\_Q100$\")) & (df['ChgQRatio']==0)].pivot(index=\"Dataset\",columns=\"Method\",values=\"Time\")])\n",
    "graphdf = graphdf[target_alg_overall]\n",
    "\n",
    "graphdf = graphdf.reindex(index=dataset)\n",
    "fig = plt.figure(figsize=figsize_overall)\n",
    "ax = fig.add_subplot(1,1,1)\n",
    "xpositions = []\n",
    "for i, algname in enumerate(target_alg_overall):\n",
    "    xposition = np.arange(graphdf.shape[0])*barWidth*(len(target_alg_overall)+inter_bar_space) + barWidth*intra_bar_space*i\n",
    "    center = (xposition[0]+xposition[-1])/2\n",
    "    xpositions.append(xposition)\n",
    "    ax.bar(xposition,graphdf.iloc[:,i].tolist(), color = \"white\", width=barWidth,\\\n",
    "           hatch=algo_hatch[algname], edgecolor=algo_color[algname],\\\n",
    "           linewidth=algo_linewidth[algname], zorder=2)\n",
    "ax.grid(b=True,which=\"major\",axis='y',zorder=0)\n",
    "ax.set_yscale(\"log\")\n",
    "ax.set_xlabel(\"\")\n",
    "ax.set_ylabel('CPU time(ms)', fontsize=FONTSIZE_YLABEL)\n",
    "\n",
    "ax.set_xlim([-barWidth,xposition[-1]+barWidth])\n",
    "ax.set_ylim([10,100000])\n",
    "plt.yticks([10,1e3,1e5])\n",
    "xpositions=np.array(xpositions)\n",
    "plt.xticks(np.mean(xpositions,axis=0),dataset)\n",
    "\n",
    "# remove ticks\n",
    "ax.tick_params(axis ='both', which ='both', length = 0)\n",
    "ax.tick_params(axis ='x', labelsize=FONTSIZE_XLABEL, pad=15)\n",
    "ax.tick_params(axis ='y', labelsize=FONTSIZE_TICK)\n",
    "# rotate ticks\n",
    "ax.tick_params(axis ='x', rotation = 0)\n",
    "plt.savefig('Overall_CpuTime.pdf', bbox_inches='tight', format='pdf')"
   ],
   "metadata": {
    "collapsed": false,
    "pycharm": {
     "name": "#%%\n"
    }
   }
  },
  {
   "cell_type": "markdown",
   "source": [
    "## Overall Peak Memory"
   ],
   "metadata": {
    "collapsed": false
   }
  },
  {
   "cell_type": "code",
   "execution_count": null,
   "outputs": [],
   "source": [
    "dataset_ = dataset.copy()\n",
    "dataname = dataset_.pop()\n",
    "graphdf = df.loc[(df[\"Dataset\"]==dataname)&(df[\"Queryset\"].str.contains(r\"\\_Q100$\")) \\\n",
    "                 & (df['ChgQRatio']>0)].pivot(index=\"Dataset\",columns=\"Method\",values=\"PeakMem\")\n",
    "\n",
    "for dataname in dataset_:\n",
    "    graphdf = pd.concat([graphdf, df.loc[(df[\"Dataset\"]==dataname)&(df[\"Queryset\"].str.contains(r\"\\_Q100$\")) \\\n",
    "                                         & (df['ChgQRatio']==0)].pivot(index=\"Dataset\",columns=\"Method\",values=\"PeakMem\")])\n",
    "graphdf = graphdf[target_alg_overall]\n",
    "\n",
    "graphdf = graphdf.reindex(index=dataset)\n",
    "\n",
    "fig = plt.figure(figsize=figsize_overall)\n",
    "ax = fig.add_subplot(1,1,1)\n",
    "xpositions = []\n",
    "for i, algname in enumerate(target_alg_overall):\n",
    "    xposition = np.arange(graphdf.shape[0])*barWidth*(len(target_alg_overall)+inter_bar_space) + barWidth*intra_bar_space*i\n",
    "    center = (xposition[0]+xposition[-1])/2\n",
    "    xpositions.append(xposition)\n",
    "    ax.bar(xposition,graphdf.iloc[:,i].tolist(), color = \"white\", width=barWidth,\\\n",
    "           hatch=algo_hatch[algname], edgecolor=algo_color[algname], \\\n",
    "           linewidth=algo_linewidth[algname], zorder=2)\n",
    "ax.grid(b=True,which=\"major\",axis='y',zorder=0)\n",
    "ax.set_yscale(\"log\",basey=2)\n",
    "ax.set_xlabel(\"\")\n",
    "ax.set_ylabel('Peak memory(MB)', fontsize=FONTSIZE_YLABEL)\n",
    "ax.set_xlim([-barWidth,xposition[-1]+barWidth])\n",
    "ax.set_ylim([1,1024])\n",
    "plt.yticks([1,32,1024])\n",
    "ax.set_yticklabels(['1','32','1024'])\n",
    "xpositions=np.array(xpositions)\n",
    "plt.xticks(np.mean(xpositions,axis=0),dataset)\n",
    "\n",
    "# remove ticks\n",
    "ax.tick_params(axis='both', which ='both', length = 0)\n",
    "ax.tick_params(axis='x', labelsize=FONTSIZE_XLABEL, pad=15)\n",
    "ax.tick_params(axis='y', labelsize=FONTSIZE_TICK)\n",
    "# rotate ticks\n",
    "ax.tick_params(axis ='x', rotation = 0)\n",
    "\n",
    "plt.savefig('Overall_PeakMem.pdf', bbox_inches='tight', format='pdf')\n"
   ],
   "metadata": {
    "collapsed": false,
    "pycharm": {
     "name": "#%%\n"
    }
   }
  },
  {
   "cell_type": "markdown",
   "source": [
    "# Overall Legend"
   ],
   "metadata": {
    "collapsed": false,
    "pycharm": {
     "name": "#%% md\n"
    }
   }
  },
  {
   "cell_type": "code",
   "execution_count": null,
   "outputs": [],
   "source": [
    "fig = plt.figure()\n",
    "ax = fig.add_subplot(1,1,1)\n",
    "xpositions = []\n",
    "bars = []\n",
    "for i, algname in enumerate(target_alg_overall):\n",
    "    xposition = np.arange(graphdf.shape[0])*barWidth*(graphdf.shape[0]+inter_bar_space) + barWidth*intra_bar_space*i\n",
    "    center = (xposition[0]+xposition[-1])/2\n",
    "    xpositions.append(xposition)\n",
    "    bar = ax.bar(xposition,graphdf.iloc[:,i].tolist(), color = \"white\", width=barWidth,\\\n",
    "               hatch=algo_hatch[algname], edgecolor=algo_color[algname], \\\n",
    "               linewidth=algo_linewidth[algname], zorder=2)\n",
    "    bars.append(bar)\n",
    "\n",
    "legend = ax.legend(handles=bars,labels=target_alg_overall,\\\n",
    "                   bbox_to_anchor=(0., 1.02, 1., .102), loc='upper center',\\\n",
    "                   ncol=len(target_alg_overall), mode=\"expand\", borderaxespad=0.)"
   ],
   "metadata": {
    "collapsed": false,
    "pycharm": {
     "name": "#%%\n"
    }
   }
  },
  {
   "cell_type": "code",
   "execution_count": null,
   "outputs": [],
   "source": [
    "figsize = (10, 1)\n",
    "fig_leg = plt.figure(figsize=figsize)\n",
    "ax_leg = fig_leg.add_subplot(111)\n",
    "# add the legend from the previous axes\n",
    "ax_leg.legend(handles=bars,labels=target_alg_overall, loc='center', ncol=len(target_alg_overall), \\\n",
    "                facecolor='white', framealpha=1,edgecolor='black', fancybox = False,handlelength =3,\\\n",
    "              prop={'size':25}\n",
    "              )\n",
    "# hide the axes frame and the x/y labels\n",
    "ax_leg.axis('off')\n",
    "fig_leg.savefig('Overall_Legend.pdf', bbox_inches='tight', format='pdf')"
   ],
   "metadata": {
    "collapsed": false,
    "pycharm": {
     "name": "#%%\n"
    }
   }
  },
  {
   "cell_type": "markdown",
   "source": [
    "# Changing the number of queries - CPU time, Peak memory\n",
    "###### ChgQRatio>0, targetAlgorithm = ALL\n",
    "## CPU time"
   ],
   "metadata": {
    "collapsed": false,
    "pycharm": {
     "name": "#%% md\n"
    }
   }
  },
  {
   "cell_type": "code",
   "execution_count": null,
   "outputs": [],
   "source": [
    "for dataname in dataset:\n",
    "    graphdf = df.loc[(df[\"Dataset\"]==dataname) & (df['ChgQRatio']>0)]\\\n",
    "        .pivot(index=\"Queryset\",columns=\"Method\",values=\"Time\")\n",
    "\n",
    "    graphdf.reindex(index=dataset)\n",
    "    graphdf.head(19)\n",
    "    fig = plt.figure(figsize=figsize_vp)\n",
    "    ax = fig.add_subplot(1,1,1)\n",
    "\n",
    "    for i, algname in enumerate(target_alg_vp):\n",
    "        ax.plot(graphdf[algname], linestyle=algo_line[algname], marker=algo_marker[algname], color=algo_color[algname])\n",
    "    ax.set_yscale(\"log\")\n",
    "    ax.set_xlabel(\"\")\n",
    "    ax.set_ylabel('CPU Time(ms)', fontsize=FONTSIZE_YLABEL_vp)\n",
    "    ax.grid(b=True,which=\"major\",axis='y',zorder=0)\n",
    "    ax.set_xticklabels([1,10,100,1000])\n",
    "    ax.tick_params(axis='x', which ='both', length = 0)\n",
    "    ax.tick_params(axis='x', labelsize=FONTSIZE_XLABEL_vp, pad=15)\n",
    "    ax.tick_params(axis='y', labelsize=FONTSIZE_TICK_vp)\n",
    "    ax.tick_params(axis='y', which ='minor', length = 0)\n",
    "    ax.tick_params(axis='y', which ='major', direction='in')\n",
    "    plt.savefig('QueryNum_'+dataname+'_CpuTime.pdf', bbox_inches='tight', format='pdf')"
   ],
   "metadata": {
    "collapsed": false,
    "pycharm": {
     "name": "#%%\n"
    }
   }
  },
  {
   "cell_type": "markdown",
   "source": [
    "## Peak memory"
   ],
   "metadata": {
    "collapsed": false,
    "pycharm": {
     "name": "#%% md\n"
    }
   }
  },
  {
   "cell_type": "code",
   "execution_count": null,
   "outputs": [],
   "source": [
    "for dataname in dataset:\n",
    "    graphdf = df.loc[(df[\"Dataset\"]==dataname) & (df['ChgQRatio']>0)]\\\n",
    "        .pivot(index=\"Queryset\",columns=\"Method\",values=\"PeakMem\")\n",
    "\n",
    "    graphdf.reindex(index=dataset)\n",
    "\n",
    "    fig = plt.figure(figsize=figsize_vp)\n",
    "    ax = fig.add_subplot(1,1,1)\n",
    "\n",
    "    for i, algname in enumerate(target_alg_vp):\n",
    "        ax.plot(graphdf[algname], linestyle=algo_line[algname], marker=algo_marker[algname], color=algo_color[algname])\n",
    "    ax.set_yscale(\"log\",basey=2)\n",
    "    ax.set_xlabel(\"\")\n",
    "    ax.set_ylabel('Peak Memory(MB)', fontsize=FONTSIZE_YLABEL_vp)\n",
    "    ax.grid(b=True,which=\"major\",axis='y',zorder=0)\n",
    "    ax.set_xticklabels([1,10,100,1000])\n",
    "    ax.tick_params(axis='x', which ='both', length = 0)\n",
    "    ax.tick_params(axis='x', labelsize=FONTSIZE_XLABEL_vp, pad=15)\n",
    "    ax.tick_params(axis='y', labelsize=FONTSIZE_TICK_vp)\n",
    "    plt.savefig('QueryNum_'+dataname+'_PeakMem.pdf', bbox_inches='tight', format='pdf')"
   ],
   "metadata": {
    "collapsed": false,
    "pycharm": {
     "name": "#%%\n"
    }
   }
  },
  {
   "cell_type": "markdown",
   "source": [
    "# Changing the stationarity of queries - CPU time, Peak memory\n",
    "###### numQuery=100, targetAlgorithm = ALL"
   ],
   "metadata": {
    "collapsed": false
   }
  },
  {
   "cell_type": "code",
   "execution_count": null,
   "outputs": [],
   "source": [
    "graphdf_stationary = df.loc[(df['ChgQRatio']==0) & (df[\"Queryset\"].str.contains(r\"\\_Q100$\"))].pivot(index=\"Dataset\",columns=\"Method\",values=\"Time\").reindex(dataset)\n",
    "graphdf_dynamic = df.loc[(df['ChgQRatio']>0) & (df[\"Queryset\"].str.contains(r\"\\_Q100$\"))].pivot(index=\"Dataset\",columns=\"Method\",values=\"Time\").reindex(dataset)\n",
    "\n",
    "fig = plt.figure(figsize=figsize_vp)\n",
    "ax = fig.add_subplot(1,1,1)\n",
    "for i, algname in enumerate(target_alg_stationarity):\n",
    "    ax.plot(graphdf_stationary[algname], linestyle='--', marker=algo_marker[algname], color=algo_color[algname])\n",
    "    ax.plot(graphdf_dynamic[algname], linestyle='-', marker=algo_marker[algname], color=algo_color[algname])\n",
    "ax.grid(b=True,which=\"major\",axis='y',zorder=0)\n",
    "ax.set_xlabel(\"\")\n",
    "ax.set_ylabel('CPU time(ms)', fontsize=FONTSIZE_YLABEL_stationarity)\n",
    "# ax.set_xlim([-barWidth,xposition[-1]+barWidth])\n",
    "# ax.set_ylim([1,1024])\n",
    "# plt.yticks([1,32,1024])\n",
    "# ax.set_yticklabels(['1','32','1024'])\n",
    "# ax.set_yscale(\"log\")\n",
    "ax.tick_params(axis='both', which ='both', length = 0)\n",
    "ax.tick_params(axis='x', labelsize=FONTSIZE_XLABEL_stationarity)\n",
    "ax.tick_params(axis='y', labelsize=FONTSIZE_TICK_stationarity)\n",
    "# rotate ticks\n",
    "ax.tick_params(axis ='x', rotation = 0, pad=10)\n",
    "plt.savefig('Stationarity_CpuTime.pdf', bbox_inches='tight', format='pdf')"
   ],
   "metadata": {
    "collapsed": false,
    "pycharm": {
     "name": "#%%\n"
    }
   }
  },
  {
   "cell_type": "code",
   "execution_count": null,
   "outputs": [],
   "source": [
    "graphdf_stationary = df.loc[(df['ChgQRatio']==0) & (df[\"Queryset\"].str.contains(r\"\\_Q100$\"))].pivot(index=\"Dataset\",columns=\"Method\",values=\"PeakMem\").reindex(dataset)\n",
    "graphdf_dynamic = df.loc[(df['ChgQRatio']>0) & (df[\"Queryset\"].str.contains(r\"\\_Q100$\"))].pivot(index=\"Dataset\",columns=\"Method\",values=\"PeakMem\").reindex(dataset)\n",
    "\n",
    "fig = plt.figure(figsize=figsize_vp)\n",
    "ax = fig.add_subplot(1,1,1)\n",
    "for i, algname in enumerate(target_alg_stationarity):\n",
    "    ax.plot(graphdf_stationary[algname], linestyle='--', marker=algo_marker[algname], color=algo_color[algname])\n",
    "    ax.plot(graphdf_dynamic[algname], linestyle='-', marker=algo_marker[algname], color=algo_color[algname])\n",
    "ax.grid(b=True,which=\"major\",axis='y',zorder=0)\n",
    "ax.set_xlabel(\"\")\n",
    "ax.set_ylabel('Peak memory(MB)', fontsize=FONTSIZE_YLABEL_stationarity)\n",
    "# ax.set_xlim([-barWidth,xposition[-1]+barWidth])\n",
    "# ax.set_ylim([1,1024])\n",
    "# plt.yticks([1,32,1024])\n",
    "# ax.set_yticklabels(['1','32','1024'])\n",
    "\n",
    "ax.tick_params(axis='both', which ='both', length = 0)\n",
    "ax.tick_params(axis='x', labelsize=FONTSIZE_XLABEL_stationarity)\n",
    "ax.tick_params(axis='y', labelsize=FONTSIZE_TICK_stationarity)\n",
    "# rotate ticks\n",
    "ax.tick_params(axis ='x', rotation = 0, pad=10)\n",
    "plt.savefig('Stationarity_PeakMem.pdf', bbox_inches='tight', format='pdf')"
   ],
   "metadata": {
    "collapsed": false,
    "pycharm": {
     "name": "#%%\n"
    }
   }
  },
  {
   "cell_type": "code",
   "execution_count": null,
   "outputs": [],
   "source": [
    "\n",
    "for dataname in dataset:\n",
    "    graphdf_nochange = df.loc[(df[\"Dataset\"]==dataname) & (df['ChgQRatio']==0) & \\\n",
    "        (df[\"Queryset\"].str.contains(r\"\\_Q100$\"))].pivot(index=\"ChgQRatio\",columns=\"Method\",values=\"Time\")\n",
    "    graphdf_change = df.loc[(df[\"Dataset\"]==dataname) & (df['ChgQRatio']>0) & \\\n",
    "            (df[\"Queryset\"].str.contains(r\"\\_Q100$\"))].pivot(index=\"ChgQRatio\",columns=\"Method\",values=\"Time\")\n",
    "    graphdf = pd.concat([graphdf_nochange,graphdf_change])\n",
    "    graphdf.index=[\"Stationary\",'Dynamic']\n",
    "    graphdf = graphdf[target_alg_stationarity]\n",
    "    fig = plt.figure(figsize=figsize_stationarity)\n",
    "    ax = fig.add_subplot(1,1,1)\n",
    "    for i, algname in enumerate(target_alg_stationarity):\n",
    "        ax.plot(graphdf[algname], linestyle=algo_line[algname], marker=algo_marker[algname], color=algo_color[algname])\n",
    "    ax.grid(b=True,which=\"major\",axis='y',zorder=0)\n",
    "    ax.set_xlabel(\"\")\n",
    "    ax.set_ylabel('CPU time(ms)', fontsize=FONTSIZE_YLABEL_stationarity)\n",
    "    ax.set_xlim([-0.4,1.4])\n",
    "    # ax.set_ylim([1,1024])\n",
    "    # plt.yticks([1,32,1024])\n",
    "    # ax.set_yticklabels(['1','32','1024'])\n",
    "    # xpositions=np.array(xpositions)\n",
    "    # plt.xticks(np.mean(xpositions,axis=0),[\"Stationary\",'Dynamic'])\n",
    "\n",
    "    # TODO: Put pattern in the bar graph\n",
    "    # remove ticks\n",
    "    ax.tick_params(axis='both', which ='both', length = 0)\n",
    "    ax.tick_params(axis='x', labelsize=FONTSIZE_XLABEL_stationarity)\n",
    "    ax.tick_params(axis='y', labelsize=FONTSIZE_TICK_stationarity)\n",
    "    # rotate ticks\n",
    "    ax.tick_params(axis ='x', rotation = 0)\n",
    "\n",
    "    plt.savefig('Stationarity_'+dataname+'_CpuTime.pdf', bbox_inches='tight', format='pdf')"
   ],
   "metadata": {
    "collapsed": false,
    "pycharm": {
     "name": "#%%\n"
    }
   }
  },
  {
   "cell_type": "code",
   "execution_count": null,
   "outputs": [],
   "source": [
    "\n",
    "for dataname in dataset:\n",
    "    graphdf_nochange = df.loc[(df[\"Dataset\"]==dataname) & (df['ChgQRatio']==0) & \\\n",
    "        (df[\"Queryset\"].str.contains(r\"\\_Q100$\"))].pivot(index=\"ChgQRatio\",columns=\"Method\",values=\"PeakMem\")\n",
    "    graphdf_change = df.loc[(df[\"Dataset\"]==dataname) & (df['ChgQRatio']>0) & \\\n",
    "            (df[\"Queryset\"].str.contains(r\"\\_Q100$\"))].pivot(index=\"ChgQRatio\",columns=\"Method\",values=\"PeakMem\")\n",
    "    graphdf = pd.concat([graphdf_nochange,graphdf_change])\n",
    "    graphdf.index=[\"Stationary\",'Dynamic']\n",
    "    graphdf = graphdf[target_alg_stationarity]\n",
    "    fig = plt.figure(figsize=figsize_stationarity)\n",
    "    ax = fig.add_subplot(1,1,1)\n",
    "    for i, algname in enumerate(target_alg_stationarity):\n",
    "        ax.plot(graphdf[algname], linestyle=algo_line[algname], marker=algo_marker[algname], color=algo_color[algname])\n",
    "    ax.grid(b=True,which=\"major\",axis='y',zorder=0)\n",
    "    ax.set_xlabel(\"\")\n",
    "    ax.set_ylabel('Peak memory(MB)', fontsize=FONTSIZE_YLABEL_stationarity)\n",
    "    ax.set_xlim([-0.4,1.4])\n",
    "    # ax.set_ylim([1,1024])\n",
    "    # plt.yticks([1,32,1024])\n",
    "    # ax.set_yticklabels(['1','32','1024'])\n",
    "    # xpositions=np.array(xpositions)\n",
    "    # plt.xticks(np.mean(xpositions,axis=0),[\"Stationary\",'Dynamic'])\n",
    "\n",
    "    # TODO: Put pattern in the bar graph\n",
    "    # remove ticks\n",
    "    ax.tick_params(axis='both', which ='both', length = 0)\n",
    "    ax.tick_params(axis='x', labelsize=FONTSIZE_XLABEL_stationarity)\n",
    "    ax.tick_params(axis='y', labelsize=FONTSIZE_TICK_stationarity)\n",
    "    # rotate ticks\n",
    "    ax.tick_params(axis ='x', rotation = 0)\n",
    "\n",
    "    plt.savefig('Stationarity_'+dataname+'_PeakMem.pdf', bbox_inches='tight', format='pdf')"
   ],
   "metadata": {
    "collapsed": false,
    "pycharm": {
     "name": "#%%\n"
    }
   }
  },
  {
   "cell_type": "markdown",
   "source": [
    "## Stationary Legend"
   ],
   "metadata": {
    "collapsed": false
   }
  },
  {
   "cell_type": "code",
   "execution_count": null,
   "outputs": [],
   "source": [
    "graphdf_nochange = df.loc[(df[\"Dataset\"]==dataname) & (df['ChgQRatio']==0) & \\\n",
    "        (df[\"Queryset\"].str.contains(r\"\\_Q100$\"))].pivot(index=\"ChgQRatio\",columns=\"Method\",values=\"PeakMem\")\n",
    "graphdf_change = df.loc[(df[\"Dataset\"]==dataname) & (df['ChgQRatio']>0) & \\\n",
    "        (df[\"Queryset\"].str.contains(r\"\\_Q100$\"))].pivot(index=\"ChgQRatio\",columns=\"Method\",values=\"PeakMem\")\n",
    "graphdf = pd.concat([graphdf_nochange,graphdf_change])\n",
    "graphdf.index=[\"Stationary\",'Dynamic']\n",
    "graphdf = graphdf[target_alg_stationarity]\n",
    "fig = plt.figure(figsize=figsize_stationarity)\n",
    "ax = fig.add_subplot(1,1,1)\n",
    "plots = []\n",
    "for i, algname in enumerate(target_alg_stationarity):\n",
    "    plot = ax.plot(graphdf[algname], linestyle=algo_line[algname], marker=algo_marker[algname], color=algo_color[algname])\n",
    "    plots += plot\n",
    "# legend = ax.legend(handles=plots,labels=target_alg_stationarity)\n",
    "\n",
    "legend = ax.legend(handles=plots,labels=target_alg_stationarity,\\\n",
    "                   bbox_to_anchor=(0., 1.02, 1., .102), loc='upper center',\\\n",
    "                   ncol=len(target_alg_stationarity), mode=\"expand\", borderaxespad=0.)"
   ],
   "metadata": {
    "collapsed": false,
    "pycharm": {
     "name": "#%%\n"
    }
   }
  },
  {
   "cell_type": "code",
   "execution_count": null,
   "outputs": [],
   "source": [
    "figsize = (7, 1)\n",
    "fig_leg = plt.figure(figsize=figsize)\n",
    "ax_leg = fig_leg.add_subplot(111)\n",
    "# add the legend from the previous axes\n",
    "\n",
    "ax_leg.legend(handles=plots,labels=target_alg_stationarity, loc='center', ncol=len(target_alg_stationarity), \\\n",
    "                facecolor='white', framealpha=1,edgecolor='black', fancybox = False,handlelength =2,\\\n",
    "               prop={'size':20})\n",
    "# hide the axes frame and the x/y labels\n",
    "ax_leg.axis('off')\n",
    "fig_leg.savefig('Stationarity_Legend.pdf', bbox_inches='tight', format='pdf')\n"
   ],
   "metadata": {
    "collapsed": false,
    "pycharm": {
     "name": "#%%\n"
    }
   }
  },
  {
   "cell_type": "markdown",
   "source": [
    "# Unified Grouping"
   ],
   "metadata": {
    "collapsed": false,
    "pycharm": {
     "name": "#%% md\n"
    }
   }
  },
  {
   "cell_type": "code",
   "execution_count": null,
   "outputs": [],
   "source": [
    "plt.rcParams['hatch.linewidth'] = 0.75"
   ],
   "metadata": {
    "collapsed": false,
    "pycharm": {
     "name": "#%%\n"
    }
   }
  },
  {
   "cell_type": "code",
   "execution_count": null,
   "outputs": [],
   "source": [
    "dataset_ = dataset.copy()\n",
    "dataname = dataset_.pop()\n",
    "graphdf = df.loc[(df[\"Dataset\"]==dataname)&(df[\"Queryset\"].str.contains(r\"\\_Q100$\")) \\\n",
    "                 & (df['ChgQRatio']>0)].pivot(index=\"Dataset\",columns=\"Method\",values=\"Time\")\n",
    "\n",
    "for dataname in dataset_:\n",
    "    graphdf = pd.concat([graphdf, df.loc[(df[\"Dataset\"]==dataname)&(df[\"Queryset\"].str.contains(r\"\\_Q100$\")) & (df['ChgQRatio']==0)].pivot(index=\"Dataset\",columns=\"Method\",values=\"Time\")])\n",
    "graphdf = graphdf[target_alg_unified]\n",
    "\n",
    "graphdf = graphdf.reindex(index=dataset)\n",
    "fig = plt.figure(figsize=figsize_unified)\n",
    "ax = fig.add_subplot(1,1,1)\n",
    "xpositions = []\n",
    "for i, algname in enumerate(target_alg_unified):\n",
    "    xposition = np.arange(graphdf.shape[0])*barWidth_unified*(len(target_alg_unified)+inter_bar_space_unified) + barWidth_unified*intra_bar_space_unified*i\n",
    "    center = (xposition[0]+xposition[-1])/2\n",
    "    xpositions.append(xposition)\n",
    "    ax.bar(xposition,graphdf.iloc[:,i].tolist(), color = \"white\", width=barWidth_unified,\\\n",
    "           hatch=algo_hatch[algname]*3, edgecolor=algo_color[algname],\\\n",
    "           linewidth=algo_linewidth[algname]/2, zorder=2)\n",
    "ax.grid(b=True,which=\"major\",axis='y',zorder=0)\n",
    "ax.set_yscale(\"log\")\n",
    "ax.set_xlabel(\"\")\n",
    "ax.set_ylabel('CPU time(ms)', fontsize=FONTSIZE_YLABEL_unified)\n",
    "\n",
    "ax.set_xlim([-barWidth_unified,xposition[-1]+barWidth_unified])\n",
    "ax.set_ylim([10,100000])\n",
    "plt.yticks([10,1e3,1e5])\n",
    "xpositions=np.array(xpositions)\n",
    "plt.xticks(np.mean(xpositions,axis=0),dataset)\n",
    "\n",
    "# remove ticks\n",
    "ax.tick_params(axis ='both', which ='both', length = 0)\n",
    "ax.tick_params(axis ='x', labelsize=FONTSIZE_XLABEL_unified, pad=10)\n",
    "ax.tick_params(axis ='y', labelsize=FONTSIZE_TICK_unified)\n",
    "# rotate ticks\n",
    "ax.tick_params(axis ='x', rotation = 0)\n",
    "plt.savefig('Unified_CpuTime.pdf', bbox_inches='tight', format='pdf')\n"
   ],
   "metadata": {
    "collapsed": false,
    "pycharm": {
     "name": "#%%\n"
    }
   }
  },
  {
   "cell_type": "code",
   "execution_count": null,
   "outputs": [],
   "source": [
    "dataset_ = dataset.copy()\n",
    "dataname = dataset_.pop()\n",
    "graphdf = df.loc[(df[\"Dataset\"]==dataname)&(df[\"Queryset\"].str.contains(r\"\\_Q100$\")) \\\n",
    "                 & (df['ChgQRatio']>0)].pivot(index=\"Dataset\",columns=\"Method\",values=\"PeakMem\")\n",
    "\n",
    "for dataname in dataset_:\n",
    "    graphdf = pd.concat([graphdf, df.loc[(df[\"Dataset\"]==dataname)&(df[\"Queryset\"].str.contains(r\"\\_Q100$\")) \\\n",
    "                                         & (df['ChgQRatio']==0)].pivot(index=\"Dataset\",columns=\"Method\",values=\"PeakMem\")])\n",
    "graphdf = graphdf[target_alg_unified]\n",
    "\n",
    "graphdf = graphdf.reindex(index=dataset)\n",
    "\n",
    "fig = plt.figure(figsize=figsize_unified)\n",
    "ax = fig.add_subplot(1,1,1)\n",
    "xpositions = []\n",
    "for i, algname in enumerate(target_alg_unified):\n",
    "    xposition = np.arange(graphdf.shape[0])*barWidth_unified*(len(target_alg_unified)+inter_bar_space_unified) + barWidth_unified*intra_bar_space_unified*i\n",
    "    center = (xposition[0]+xposition[-1])/2\n",
    "    xpositions.append(xposition)\n",
    "    ax.bar(xposition,graphdf.iloc[:,i].tolist(), color = \"white\", width=barWidth_unified,\\\n",
    "               hatch=algo_hatch[algname]*3, edgecolor=algo_color[algname],\\\n",
    "               linewidth=algo_linewidth[algname]/2, zorder=2)\n",
    "ax.grid(b=True,which=\"major\",axis='y',zorder=0)\n",
    "ax.set_yscale(\"log\",basey=2)\n",
    "ax.set_xlabel(\"\")\n",
    "ax.set_ylabel('Peak memory(MB)', fontsize=FONTSIZE_YLABEL_unified)\n",
    "ax.set_xlim([-barWidth_unified,xposition[-1]+barWidth_unified])\n",
    "ax.set_ylim([1,1024])\n",
    "plt.yticks([1,32,1024])\n",
    "ax.set_yticklabels(['1','32','1024'])\n",
    "xpositions=np.array(xpositions)\n",
    "plt.xticks(np.mean(xpositions,axis=0),dataset)\n",
    "\n",
    "# remove ticks\n",
    "ax.tick_params(axis='both', which ='both', length = 0)\n",
    "ax.tick_params(axis='x', labelsize=FONTSIZE_XLABEL_unified, pad=10)\n",
    "ax.tick_params(axis='y', labelsize=FONTSIZE_TICK_unified)\n",
    "# rotate ticks\n",
    "ax.tick_params(axis ='x', rotation = 0)\n",
    "\n",
    "plt.savefig('Unified_PeakMem.pdf', bbox_inches='tight', format='pdf')"
   ],
   "metadata": {
    "collapsed": false,
    "pycharm": {
     "name": "#%%\n"
    }
   }
  },
  {
   "cell_type": "markdown",
   "source": [
    "## Unified Legend"
   ],
   "metadata": {
    "collapsed": false
   }
  },
  {
   "cell_type": "code",
   "execution_count": null,
   "outputs": [],
   "source": [
    "fig = plt.figure()\n",
    "ax = fig.add_subplot(1,1,1)\n",
    "xpositions = []\n",
    "bars = []\n",
    "for i, algname in enumerate(target_alg_unified):\n",
    "    xposition = np.arange(graphdf.shape[0])*barWidth*(graphdf.shape[0]+inter_bar_space) + barWidth*intra_bar_space*i\n",
    "    center = (xposition[0]+xposition[-1])/2\n",
    "    xpositions.append(xposition)\n",
    "    bar = ax.bar(xposition,graphdf.iloc[:,i].tolist(), color = \"white\", width=barWidth,\\\n",
    "               hatch=algo_hatch[algname], edgecolor=algo_color[algname], \\\n",
    "               linewidth=algo_linewidth[algname], zorder=2)\n",
    "    bars.append(bar)\n",
    "\n",
    "legend = ax.legend(handles=bars,labels=target_alg_overall,\\\n",
    "                   bbox_to_anchor=(0., 1.02, 1., .102), loc='upper center',\\\n",
    "                   ncol=len(target_alg_overall), mode=\"expand\", borderaxespad=0.)"
   ],
   "metadata": {
    "collapsed": false,
    "pycharm": {
     "name": "#%%\n"
    }
   }
  },
  {
   "cell_type": "markdown",
   "source": [
    "## Varying Parameters"
   ],
   "metadata": {
    "collapsed": false
   }
  },
  {
   "cell_type": "code",
   "execution_count": 108,
   "outputs": [
    {
     "data": {
      "text/plain": "<Figure size 720x144 with 1 Axes>",
      "image/png": "[encoded data removed]"
     },
     "metadata": {
      "needs_background": "light"
     },
     "output_type": "display_data"
    },
    {
     "data": {
      "text/plain": "<Figure size 720x144 with 1 Axes>",
      "image/png": "[encoded data removed]"
     },
     "metadata": {
      "needs_background": "light"
     },
     "output_type": "display_data"
    },
    {
     "data": {
      "text/plain": "<Figure size 720x144 with 1 Axes>",
      "image/png": "[encoded data removed]"
     },
     "metadata": {
      "needs_background": "light"
     },
     "output_type": "display_data"
    },
    {
     "data": {
      "text/plain": "<Figure size 720x144 with 1 Axes>",
      "image/png": "[encoded data removed]"
     },
     "metadata": {
      "needs_background": "light"
     },
     "output_type": "display_data"
    },
    {
     "data": {
      "text/plain": "<Figure size 720x144 with 1 Axes>",
      "image/png": "[encoded data removed]"
     },
     "metadata": {
      "needs_background": "light"
     },
     "output_type": "display_data"
    },
    {
     "data": {
      "text/plain": "<Figure size 720x144 with 1 Axes>",
      "image/png": "[encoded data removed]"
     },
     "metadata": {
      "needs_background": "light"
     },
     "output_type": "display_data"
    },
    {
     "data": {
      "text/plain": "<Figure size 720x144 with 1 Axes>",
      "image/png": "[encoded data removed]"
     },
     "metadata": {
      "needs_background": "light"
     },
     "output_type": "display_data"
    },
    {
     "data": {
      "text/plain": "<Figure size 720x144 with 1 Axes>",
      "image/png": "[encoded data removed]"
     },
     "metadata": {
      "needs_background": "light"
     },
     "output_type": "display_data"
    }
   ],
   "source": [
    "df = preprocessing_params('result_varyingParams')\n",
    "for vp in [\"R\",\"K\",\"W\",\"S\"]:\n",
    "    dataset_ = dataset.copy()\n",
    "    dataname = dataset_.pop()\n",
    "    graphdf = df.loc[(df[\"Dataset\"]==dataname) & (df['paramKey']==vp)].pivot(index=\"Dataset\",columns=\"Method\",values=\"Time\")\n",
    "    for dataname in dataset_:\n",
    "        graphdf = pd.concat([graphdf, df.loc[(df[\"Dataset\"]==dataname) & (df['paramKey']==vp)].pivot(index=\"Dataset\",columns=\"Method\",values=\"Time\")])\n",
    "    graphdf = graphdf[target_alg_overall]\n",
    "    graphdf = graphdf.reindex(index=dataset)\n",
    "    fig = plt.figure(figsize=figsize_overall)\n",
    "    ax = fig.add_subplot(1,1,1)\n",
    "    xpositions = []\n",
    "    for i, algname in enumerate(target_alg_overall):\n",
    "        xposition = np.arange(graphdf.shape[0])*barWidth*(len(target_alg_overall)+inter_bar_space) + barWidth*intra_bar_space*i\n",
    "        center = (xposition[0]+xposition[-1])/2\n",
    "        xpositions.append(xposition)\n",
    "        ax.bar(xposition,graphdf.iloc[:,i].tolist(), color = \"white\", width=barWidth,\\\n",
    "               hatch=algo_hatch[algname], edgecolor=algo_color[algname],\\\n",
    "               linewidth=algo_linewidth[algname], zorder=2)\n",
    "    ax.grid(b=True,which=\"major\",axis='y',zorder=0)\n",
    "    ax.set_yscale(\"log\")\n",
    "    ax.set_xlabel(\"\")\n",
    "    ax.set_ylabel('CPU time(ms)', fontsize=FONTSIZE_YLABEL)\n",
    "\n",
    "    ax.set_xlim([-barWidth,xposition[-1]+barWidth])\n",
    "    ax.set_ylim([10,10000])\n",
    "    plt.yticks([1,1e2,1e4])\n",
    "    xpositions=np.array(xpositions)\n",
    "    plt.xticks(np.mean(xpositions,axis=0),dataset)\n",
    "\n",
    "    # remove ticks\n",
    "    ax.tick_params(axis ='both', which ='both', length = 0)\n",
    "    ax.tick_params(axis ='x', labelsize=FONTSIZE_XLABEL, pad=15)\n",
    "    ax.tick_params(axis ='y', labelsize=FONTSIZE_TICK)\n",
    "    # rotate ticks\n",
    "    ax.tick_params(axis ='x', rotation = 0)\n",
    "    plt.savefig('VaryingParam_'+vp+'_CpuTime.pdf', bbox_inches='tight', format='pdf')\n",
    "\n",
    "    dataset_ = dataset.copy()\n",
    "    dataname = dataset_.pop()\n",
    "    graphdf = df.loc[(df[\"Dataset\"]==dataname) & (df['paramKey']==\"R\")].pivot(index=\"Dataset\",columns=\"Method\",values=\"Time\")\n",
    "    for dataname in dataset_:\n",
    "        graphdf = pd.concat([graphdf, df.loc[(df[\"Dataset\"]==dataname) & (df['paramKey']==\"R\")].pivot(index=\"Dataset\",columns=\"Method\",values=\"Time\")])\n",
    "    graphdf = graphdf[target_alg_overall]\n",
    "    graphdf = graphdf.reindex(index=dataset)\n",
    "\n",
    "    fig = plt.figure(figsize=figsize_overall)\n",
    "    ax = fig.add_subplot(1,1,1)\n",
    "    xpositions = []\n",
    "    for i, algname in enumerate(target_alg_overall):\n",
    "        xposition = np.arange(graphdf.shape[0])*barWidth*(len(target_alg_overall)+inter_bar_space) + barWidth*intra_bar_space*i\n",
    "        center = (xposition[0]+xposition[-1])/2\n",
    "        xpositions.append(xposition)\n",
    "        ax.bar(xposition,graphdf.iloc[:,i].tolist(), color = \"white\", width=barWidth,\\\n",
    "               hatch=algo_hatch[algname], edgecolor=algo_color[algname], \\\n",
    "               linewidth=algo_linewidth[algname], zorder=2)\n",
    "    ax.grid(b=True,which=\"major\",axis='y',zorder=0)\n",
    "    ax.set_yscale(\"log\",basey=2)\n",
    "    ax.set_xlabel(\"\")\n",
    "    ax.set_ylabel('Peak memory(MB)', fontsize=FONTSIZE_YLABEL)\n",
    "    ax.set_xlim([-barWidth,xposition[-1]+barWidth])\n",
    "    ax.set_ylim([1,1024])\n",
    "    plt.yticks([1,32,1024])\n",
    "    ax.set_yticklabels(['1','32','1024'])\n",
    "    xpositions=np.array(xpositions)\n",
    "    plt.xticks(np.mean(xpositions,axis=0),dataset)\n",
    "\n",
    "    # remove ticks\n",
    "    ax.tick_params(axis='both', which ='both', length = 0)\n",
    "    ax.tick_params(axis='x', labelsize=FONTSIZE_XLABEL, pad=15)\n",
    "    ax.tick_params(axis='y', labelsize=FONTSIZE_TICK)\n",
    "    # rotate ticks\n",
    "    ax.tick_params(axis ='x', rotation = 0)\n",
    "\n",
    "    plt.savefig('VaryingParam_'+vp+'_PeakMem.pdf', bbox_inches='tight', format='pdf')\n"
   ],
   "metadata": {
    "collapsed": false,
    "pycharm": {
     "name": "#%%\n"
    }
   }
  }
 ],
 "metadata": {
  "kernelspec": {
   "display_name": "Python 3",
   "language": "python",
   "name": "python3"
  },
  "language_info": {
   "codemirror_mode": {
    "name": "ipython",
    "version": 3
   },
   "file_extension": ".py",
   "mimetype": "text/x-python",
   "name": "python",
   "nbconvert_exporter": "python",
   "pygments_lexer": "ipython3",
   "version": "3.7.3"
  }
 },
 "nbformat": 4,
 "nbformat_minor": 4
}