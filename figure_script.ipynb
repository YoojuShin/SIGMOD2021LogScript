{
 "cells": [
  {
   "cell_type": "code",
   "execution_count": 7,
   "metadata": {},
   "outputs": [],
   "source": [
    "import os\n",
    "import numpy as np\n",
    "import pandas as pd\n",
    "import matplotlib.pyplot as plt\n",
    "\n",
    "plt.rcParams[\"font.family\"] = \"serif\""
   ]
  },
  {
   "cell_type": "code",
   "execution_count": null,
   "outputs": [],
   "source": [
    "dataset = [\"STK\",\"TAO\",\"HPC\",\"GAS\",\"EM\",\"FC\"] # will be added soon\n",
    "\n",
    "algo_color = {'NAIVE': 'grey',\n",
    "              'SOP': '#4BACC6',\n",
    "              'pMCSKY': '#1F497D',\n",
    "              'OURS-Q': '#F79646',\n",
    "              'OURS-D': '#9BBB59',\n",
    "              'OURS': '#C0504D'}\n",
    "\n",
    "algo_hatch = {'NAIVE': '|||',\n",
    "              'SOP': '+++',\n",
    "              'pMCSKY': 'xxx',\n",
    "              'OURS-Q': '---',\n",
    "              'OURS-D': '///',\n",
    "              'OURS': '\\\\\\\\\\\\\\\\\\\\\\\\\\\\'}\n",
    "\n",
    "algo_line = {'NAIVE': '-',\n",
    "              'SOP': '-',\n",
    "              'pMCSKY': '-',\n",
    "              'OURS-Q': '--',\n",
    "              'OURS-D': '--',\n",
    "              'OURS': '-'}\n",
    "\n",
    "basic_linewidth = 1.5\n",
    "algo_linewidth = {'NAIVE': basic_linewidth/2,\n",
    "                  'SOP': basic_linewidth/2,\n",
    "                  'pMCSKY': basic_linewidth/2,\n",
    "                  'OURS-Q': basic_linewidth/2,\n",
    "                  'OURS-D': basic_linewidth/2,\n",
    "                  'OURS': basic_linewidth}\n",
    "\n",
    "\n"
   ],
   "metadata": {
    "collapsed": false,
    "pycharm": {
     "name": "#%%\n"
    }
   }
  },
  {
   "cell_type": "code",
   "execution_count": 8,
   "metadata": {},
   "outputs": [],
   "source": [
    "def preprocessing(pathList):\n",
    "    headerf = open(pathList[0]+\".txt\")\n",
    "    header = headerf.readline()\n",
    "    header = \"\\t\".join(header.split())\n",
    "    w=open(\"separated.csv\",'w')\n",
    "    w.write(header+\"\\n\")\n",
    "    for path in pathList:\n",
    "        f=open(path+\".txt\",'r')\n",
    "        i = -1\n",
    "        for line in f.readlines():\n",
    "            i += 1\n",
    "            if (len(line.split())<9) or (i<1):\n",
    "                continue\n",
    "            tab_sep_line = \"\\t\".join(line.split())\n",
    "            w.write(tab_sep_line+\"\\n\")\n",
    "\n",
    "    w.close()\n",
    "    dataframe = pd.read_csv(os.getcwd()+\"/separated.csv\", sep=\"\\t\")\n",
    "    return dataframe   "
   ]
  },
  {
   "cell_type": "code",
   "execution_count": 9,
   "metadata": {},
   "outputs": [
    {
     "data": {
      "text/plain": "  Dataset Queryset  ChgQRatio  Method   Time  AvgMem  PeakMem  #Out  #OutQ\n0     STK   STK_Q1        0.0   NAIVE  75.69     3.0      3.0  1235   1235\n1     STK   STK_Q1        0.0     SOP  52.59     9.0      9.0  1235   1235\n2     STK   STK_Q1        0.0  pMCSKY  59.03     6.0      7.0  1203   1203\n3     STK   STK_Q1        0.0  OURS-Q  11.63     5.0      5.0  1235   1235\n4     STK   STK_Q1        0.0  OURS-D   4.45     5.0      5.0  1235   1235",
      "text/html": "<div>\n<style scoped>\n    .dataframe tbody tr th:only-of-type {\n        vertical-align: middle;\n    }\n\n    .dataframe tbody tr th {\n        vertical-align: top;\n    }\n\n    .dataframe thead th {\n        text-align: right;\n    }\n</style>\n<table border=\"1\" class=\"dataframe\">\n  <thead>\n    <tr style=\"text-align: right;\">\n      <th></th>\n      <th>Dataset</th>\n      <th>Queryset</th>\n      <th>ChgQRatio</th>\n      <th>Method</th>\n      <th>Time</th>\n      <th>AvgMem</th>\n      <th>PeakMem</th>\n      <th>#Out</th>\n      <th>#OutQ</th>\n    </tr>\n  </thead>\n  <tbody>\n    <tr>\n      <th>0</th>\n      <td>STK</td>\n      <td>STK_Q1</td>\n      <td>0.0</td>\n      <td>NAIVE</td>\n      <td>75.69</td>\n      <td>3.0</td>\n      <td>3.0</td>\n      <td>1235</td>\n      <td>1235</td>\n    </tr>\n    <tr>\n      <th>1</th>\n      <td>STK</td>\n      <td>STK_Q1</td>\n      <td>0.0</td>\n      <td>SOP</td>\n      <td>52.59</td>\n      <td>9.0</td>\n      <td>9.0</td>\n      <td>1235</td>\n      <td>1235</td>\n    </tr>\n    <tr>\n      <th>2</th>\n      <td>STK</td>\n      <td>STK_Q1</td>\n      <td>0.0</td>\n      <td>pMCSKY</td>\n      <td>59.03</td>\n      <td>6.0</td>\n      <td>7.0</td>\n      <td>1203</td>\n      <td>1203</td>\n    </tr>\n    <tr>\n      <th>3</th>\n      <td>STK</td>\n      <td>STK_Q1</td>\n      <td>0.0</td>\n      <td>OURS-Q</td>\n      <td>11.63</td>\n      <td>5.0</td>\n      <td>5.0</td>\n      <td>1235</td>\n      <td>1235</td>\n    </tr>\n    <tr>\n      <th>4</th>\n      <td>STK</td>\n      <td>STK_Q1</td>\n      <td>0.0</td>\n      <td>OURS-D</td>\n      <td>4.45</td>\n      <td>5.0</td>\n      <td>5.0</td>\n      <td>1235</td>\n      <td>1235</td>\n    </tr>\n  </tbody>\n</table>\n</div>"
     },
     "execution_count": 9,
     "metadata": {},
     "output_type": "execute_result"
    }
   ],
   "source": [
    "df = preprocessing(dataset)\n",
    "df.head()\n",
    "\n",
    "\n"
   ]
  },
  {
   "cell_type": "markdown",
   "source": [
    "# CPU Time figure"
   ],
   "metadata": {
    "collapsed": false
   }
  },
  {
   "cell_type": "code",
   "execution_count": 160,
   "outputs": [
    {
     "data": {
      "text/plain": "<Figure size 1440x144 with 1 Axes>",
      "image/png": "[encoded data removed]"
     },
     "metadata": {
      "needs_background": "light"
     },
     "output_type": "display_data"
    }
   ],
   "source": [
    "dataset_ = dataset # will be added soon\n",
    "dataname = dataset_.pop()\n",
    "graphdf = df.loc[(df[\"Dataset\"]==dataname)&(df[\"Queryset\"].str.contains(r\"\\_Q100$\")) & (df['ChgQRatio']==0)].pivot(index=\"Dataset\",columns=\"Method\",values=\"Time\")\n",
    "\n",
    "for dataname in dataset_:\n",
    "    graphdf = pd.concat([graphdf, df.loc[(df[\"Dataset\"]==dataname)&(df[\"Queryset\"].str.contains(r\"\\_Q100$\")) & (df['ChgQRatio']==0)].pivot(index=\"Dataset\",columns=\"Method\",values=\"Time\")])\n",
    "graphdf = graphdf[algo_color.keys()]\n",
    "\n",
    "graphdf = graphdf.reindex(index=dataset)\n",
    "\n",
    "barWidth = 0.75\n",
    "fontsize_tick=5\n",
    "fontsize_xLabel=15\n",
    "fontsize_yLabel=13\n",
    "\n",
    "fig = plt.figure()\n",
    "ax = fig.add_subplot(1,1,1)\n",
    "xpositions = []\n",
    "for i, algname in enumerate(list(algo_color.keys())):\n",
    "    xposition = np.arange(graphdf.shape[0])*barWidth*(graphdf.shape[0]+4) + barWidth*(1.2)*i\n",
    "    center = (xposition[0]+xposition[-1])/2\n",
    "    xpositions.append(xposition)\n",
    "    ax.bar(xposition,graphdf.iloc[:,i].tolist(), color = \"white\", width=barWidth,\\\n",
    "           hatch=algo_hatch[algname], edgecolor=algo_color[algname], linewidth=algo_linewidth[algname])\n",
    "ax.grid(b=True,which=\"major\",axis='y',zorder=0)\n",
    "ax.set_yscale(\"log\")\n",
    "ax.set_xlabel(\"\")\n",
    "ax.set_ylabel('CPU time(s)', fontsize=fontsize_yLabel)\n",
    "ax.set_ylim([1,100000])\n",
    "xpositions=np.array(xpositions)\n",
    "plt.xticks(np.mean(xpositions,axis=0),dataset)\n",
    "\n",
    "# TODO: Put pattern in the bar graph\n",
    "plt.rcParams[\"figure.figsize\"] = (20,2)\n",
    "# remove ticks\n",
    "ax.tick_params(axis ='both', which ='both', length = 0)\n",
    "ax.tick_params(axis ='x', labelsize=fontsize_xLabel)\n",
    "ax.tick_params(axis ='y', labelsize=fontsize_tick)\n",
    "# rotate ticks\n",
    "ax.tick_params(axis ='x', rotation = 0)\n",
    "\n",
    "plt.savefig('CPU_TIME.pdf', bbox_inches='tight', format='pdf')"
   ],
   "metadata": {
    "collapsed": false,
    "pycharm": {
     "name": "#%%\n"
    }
   }
  },
  {
   "cell_type": "markdown",
   "source": [
    "# Peak Memory"
   ],
   "metadata": {
    "collapsed": false
   }
  },
  {
   "cell_type": "code",
   "execution_count": 161,
   "outputs": [
    {
     "data": {
      "text/plain": "<Figure size 1440x144 with 1 Axes>",
      "image/png": "[encoded data removed]"
     },
     "metadata": {
      "needs_background": "light"
     },
     "output_type": "display_data"
    }
   ],
   "source": [
    "dataname = dataset.pop()\n",
    "graphdf = df.loc[(df[\"Dataset\"]==dataname)&(df[\"Queryset\"].str.contains(r\"\\_Q100$\")) & (df['ChgQRatio']==0)].pivot(index=\"Dataset\",columns=\"Method\",values=\"PeakMem\")\n",
    "\n",
    "for dataname in dataset:\n",
    "    graphdf = pd.concat([graphdf, df.loc[(df[\"Dataset\"]==dataname)&(df[\"Queryset\"].str.contains(r\"\\_Q100$\")) & (df['ChgQRatio']==0)].pivot(index=\"Dataset\",columns=\"Method\",values=\"PeakMem\")])\n",
    "graphdf = graphdf[algo_color.keys()]\n",
    "\n",
    "graphdf = graphdf.reindex(index=dataset)\n",
    "\n",
    "barWidth = 0.75\n",
    "fontsize_tick=5\n",
    "fontsize_xLabel=15\n",
    "fontsize_yLabel=10\n",
    "\n",
    "fig = plt.figure()\n",
    "ax = fig.add_subplot(1,1,1)\n",
    "xpositions = []\n",
    "for i, algname in enumerate(list(algo_color.keys())):\n",
    "    xposition = np.arange(graphdf.shape[0])*barWidth*(graphdf.shape[0]+4) + barWidth*(1.2)*i\n",
    "    center = (xposition[0]+xposition[-1])/2\n",
    "    xpositions.append(xposition)\n",
    "    ax.bar(xposition,graphdf.iloc[:,i].tolist(), color = \"white\", width=barWidth,\\\n",
    "           hatch=algo_hatch[algname], edgecolor=algo_color[algname], linewidth=algo_linewidth[algname])\n",
    "ax.grid(b=True,which=\"major\",axis='y',zorder=0)\n",
    "ax.set_yscale(\"log\",basey=2)\n",
    "ax.set_xlabel(\"\")\n",
    "ax.set_ylabel('Peak memory(MB)', fontsize=fontsize_yLabel)\n",
    "ax.set_ylim([1,1024])\n",
    "xpositions=np.array(xpositions)\n",
    "plt.xticks(np.mean(xpositions,axis=0),dataset)\n",
    "\n",
    "# TODO: Put pattern in the bar graph\n",
    "plt.rcParams[\"figure.figsize\"] = (20,2)\n",
    "# remove ticks\n",
    "ax.tick_params(axis ='both', which ='both', length = 0)\n",
    "ax.tick_params(axis ='x', labelsize=fontsize_xLabel)\n",
    "ax.tick_params(axis ='y', labelsize=fontsize_tick)\n",
    "# rotate ticks\n",
    "ax.tick_params(axis ='x', rotation = 0)\n",
    "\n",
    "plt.savefig('PeakMem.pdf', bbox_inches='tight', format='pdf')"
   ],
   "metadata": {
    "collapsed": false,
    "pycharm": {
     "name": "#%%\n"
    }
   }
  },
  {
   "cell_type": "code",
   "source": [
    "\n",
    "\n"
   ],
   "metadata": {
    "collapsed": false,
    "pycharm": {
     "name": "#%%\n"
    }
   },
   "execution_count": null,
   "outputs": []
  }
 ],
 "metadata": {
  "kernelspec": {
   "display_name": "Python 3",
   "language": "python",
   "name": "python3"
  },
  "language_info": {
   "codemirror_mode": {
    "name": "ipython",
    "version": 3
   },
   "file_extension": ".py",
   "mimetype": "text/x-python",
   "name": "python",
   "nbconvert_exporter": "python",
   "pygments_lexer": "ipython3",
   "version": "3.7.3"
  }
 },
 "nbformat": 4,
 "nbformat_minor": 4
}