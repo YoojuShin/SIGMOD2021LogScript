{
 "cells": [
  {
   "cell_type": "code",
   "execution_count": 1,
   "metadata": {},
   "outputs": [],
   "source": [
    "import os\n",
    "import numpy as np\n",
    "import pandas as pd\n",
    "import matplotlib.pyplot as plt\n",
    "\n",
    "plt.rcParams[\"font.family\"] = \"serif\"\n",
    "plt.rcParams['hatch.linewidth'] = 1.5\n",
    "\n",
    "dataset = [\"STK\",\"TAO\",\"HPC\",\"GAS\",\"EM\",\"FC\"] # will be added soon\n",
    "\n",
    "algo_color = {'NAIVE': 'grey',\n",
    "              'SOP': '#4BACC6',\n",
    "              'pMCSKY': '#1F497D',\n",
    "              'OURS-Q': '#F79646',\n",
    "              'OURS-D': '#9BBB59',\n",
    "              'OURS': '#C0504D'}\n",
    "\n",
    "algo_hatch = {'NAIVE': '||',\n",
    "              'SOP': '++',\n",
    "              'pMCSKY': 'xx',\n",
    "              'OURS-Q': '--',\n",
    "              'OURS-D': '//',\n",
    "              'OURS': '\\\\\\\\\\\\'}\n",
    "\n",
    "algo_line = {'NAIVE': '-',\n",
    "              'SOP': '-',\n",
    "              'pMCSKY': '-',\n",
    "              'OURS-Q': '--',\n",
    "              'OURS-D': '--',\n",
    "              'OURS': '-'}\n",
    "\n",
    "basic_linewidth = 3\n",
    "algo_linewidth = {'NAIVE': basic_linewidth/2,\n",
    "                  'SOP': basic_linewidth/2,\n",
    "                  'pMCSKY': basic_linewidth/2,\n",
    "                  'OURS-Q': basic_linewidth/2,\n",
    "                  'OURS-D': basic_linewidth/2,\n",
    "                  'OURS': basic_linewidth}\n",
    "\n",
    "barWidth = 0.75\n",
    "FONTSIZE_TICK=12\n",
    "FONTSIZE_XLABEL=18\n",
    "FONTSIZE_YLABEL=14\n",
    "intra_bar_space = 1.2\n",
    "inter_bar_space = 2\n",
    "figsize_overall=(10,2)"
   ]
  },
  {
   "cell_type": "code",
   "execution_count": 2,
   "metadata": {},
   "outputs": [],
   "source": [
    "def preprocessing(pathList):\n",
    "    headerf = open(pathList[0]+\".txt\")\n",
    "    header = headerf.readline()\n",
    "    header = \"\\t\".join(header.split())\n",
    "    w=open(\"separated.csv\",'w')\n",
    "    w.write(header+\"\\n\")\n",
    "    for path in pathList:\n",
    "        f=open(path+\".txt\",'r')\n",
    "        i = -1\n",
    "        for line in f.readlines():\n",
    "            i += 1\n",
    "            if (len(line.split())<9) or (i<1):\n",
    "                continue\n",
    "            tab_sep_line = \"\\t\".join(line.split())\n",
    "            w.write(tab_sep_line+\"\\n\")\n",
    "\n",
    "    w.close()\n",
    "    dataframe = pd.read_csv(os.getcwd()+\"/separated.csv\", sep=\"\\t\")\n",
    "    return dataframe   \n",
    "\n",
    "\n"
   ]
  },
  {
   "cell_type": "code",
   "execution_count": 3,
   "metadata": {},
   "outputs": [
    {
     "data": {
      "text/plain": "    Dataset  Queryset  ChgQRatio  Method        Time  AvgMem  PeakMem    #Out  \\\n248      FC    FC_Q10        0.1    OURS      164.14    16.9    105.0    5416   \n249      FC   FC_Q100        0.0   NAIVE    92440.97     6.0     83.0   26017   \n250      FC   FC_Q100        0.0     SOP     6906.65   235.7    327.0   26017   \n251      FC   FC_Q100        0.0  pMCSKY     6488.66   195.2    286.0   26017   \n252      FC   FC_Q100        0.0  OURS-Q      645.10    21.0     97.0   26017   \n253      FC   FC_Q100        0.0  OURS-D     1919.78    21.0     97.0   26017   \n254      FC   FC_Q100        0.0    OURS     1267.72    21.0     98.0   26017   \n255      FC   FC_Q100        0.1   NAIVE    95029.51     6.0     83.0   63368   \n256      FC   FC_Q100        0.1     SOP    47866.62   250.2    349.0   63368   \n257      FC   FC_Q100        0.1  pMCSKY    46208.55   194.1    293.0   63368   \n258      FC   FC_Q100        0.1  OURS-Q      991.16    21.0     98.0   63368   \n259      FC   FC_Q100        0.1  OURS-D     3214.77    21.0    105.0   63368   \n260      FC   FC_Q100        0.1    OURS     2023.02    21.0    106.0   63368   \n261      FC  FC_Q1000        0.0   NAIVE  1136812.70     7.0     84.0  195532   \n262      FC  FC_Q1000        0.0     SOP    64297.80   775.9    869.0  195532   \n263      FC  FC_Q1000        0.0  pMCSKY    53730.08   258.9    352.0  195532   \n264      FC  FC_Q1000        0.0  OURS-Q     4951.32    21.9     98.0  195532   \n265      FC  FC_Q1000        0.0  OURS-D    29122.92    22.0     99.0  195532   \n266      FC  FC_Q1000        0.0    OURS     9059.50    22.0     99.0  195532   \n267      FC  FC_Q1000        0.1   NAIVE  1054443.52     7.0     84.0  167182   \n\n       #OutQ  \n248     5991  \n249    36583  \n250    36583  \n251    36583  \n252    36583  \n253    36583  \n254    36583  \n255   103743  \n256   103743  \n257   103743  \n258   103743  \n259   103743  \n260   103743  \n261  1168647  \n262  1168647  \n263  1168647  \n264  1168647  \n265  1168647  \n266  1168647  \n267   858677  ",
      "text/html": "<div>\n<style scoped>\n    .dataframe tbody tr th:only-of-type {\n        vertical-align: middle;\n    }\n\n    .dataframe tbody tr th {\n        vertical-align: top;\n    }\n\n    .dataframe thead th {\n        text-align: right;\n    }\n</style>\n<table border=\"1\" class=\"dataframe\">\n  <thead>\n    <tr style=\"text-align: right;\">\n      <th></th>\n      <th>Dataset</th>\n      <th>Queryset</th>\n      <th>ChgQRatio</th>\n      <th>Method</th>\n      <th>Time</th>\n      <th>AvgMem</th>\n      <th>PeakMem</th>\n      <th>#Out</th>\n      <th>#OutQ</th>\n    </tr>\n  </thead>\n  <tbody>\n    <tr>\n      <th>248</th>\n      <td>FC</td>\n      <td>FC_Q10</td>\n      <td>0.1</td>\n      <td>OURS</td>\n      <td>164.14</td>\n      <td>16.9</td>\n      <td>105.0</td>\n      <td>5416</td>\n      <td>5991</td>\n    </tr>\n    <tr>\n      <th>249</th>\n      <td>FC</td>\n      <td>FC_Q100</td>\n      <td>0.0</td>\n      <td>NAIVE</td>\n      <td>92440.97</td>\n      <td>6.0</td>\n      <td>83.0</td>\n      <td>26017</td>\n      <td>36583</td>\n    </tr>\n    <tr>\n      <th>250</th>\n      <td>FC</td>\n      <td>FC_Q100</td>\n      <td>0.0</td>\n      <td>SOP</td>\n      <td>6906.65</td>\n      <td>235.7</td>\n      <td>327.0</td>\n      <td>26017</td>\n      <td>36583</td>\n    </tr>\n    <tr>\n      <th>251</th>\n      <td>FC</td>\n      <td>FC_Q100</td>\n      <td>0.0</td>\n      <td>pMCSKY</td>\n      <td>6488.66</td>\n      <td>195.2</td>\n      <td>286.0</td>\n      <td>26017</td>\n      <td>36583</td>\n    </tr>\n    <tr>\n      <th>252</th>\n      <td>FC</td>\n      <td>FC_Q100</td>\n      <td>0.0</td>\n      <td>OURS-Q</td>\n      <td>645.10</td>\n      <td>21.0</td>\n      <td>97.0</td>\n      <td>26017</td>\n      <td>36583</td>\n    </tr>\n    <tr>\n      <th>253</th>\n      <td>FC</td>\n      <td>FC_Q100</td>\n      <td>0.0</td>\n      <td>OURS-D</td>\n      <td>1919.78</td>\n      <td>21.0</td>\n      <td>97.0</td>\n      <td>26017</td>\n      <td>36583</td>\n    </tr>\n    <tr>\n      <th>254</th>\n      <td>FC</td>\n      <td>FC_Q100</td>\n      <td>0.0</td>\n      <td>OURS</td>\n      <td>1267.72</td>\n      <td>21.0</td>\n      <td>98.0</td>\n      <td>26017</td>\n      <td>36583</td>\n    </tr>\n    <tr>\n      <th>255</th>\n      <td>FC</td>\n      <td>FC_Q100</td>\n      <td>0.1</td>\n      <td>NAIVE</td>\n      <td>95029.51</td>\n      <td>6.0</td>\n      <td>83.0</td>\n      <td>63368</td>\n      <td>103743</td>\n    </tr>\n    <tr>\n      <th>256</th>\n      <td>FC</td>\n      <td>FC_Q100</td>\n      <td>0.1</td>\n      <td>SOP</td>\n      <td>47866.62</td>\n      <td>250.2</td>\n      <td>349.0</td>\n      <td>63368</td>\n      <td>103743</td>\n    </tr>\n    <tr>\n      <th>257</th>\n      <td>FC</td>\n      <td>FC_Q100</td>\n      <td>0.1</td>\n      <td>pMCSKY</td>\n      <td>46208.55</td>\n      <td>194.1</td>\n      <td>293.0</td>\n      <td>63368</td>\n      <td>103743</td>\n    </tr>\n    <tr>\n      <th>258</th>\n      <td>FC</td>\n      <td>FC_Q100</td>\n      <td>0.1</td>\n      <td>OURS-Q</td>\n      <td>991.16</td>\n      <td>21.0</td>\n      <td>98.0</td>\n      <td>63368</td>\n      <td>103743</td>\n    </tr>\n    <tr>\n      <th>259</th>\n      <td>FC</td>\n      <td>FC_Q100</td>\n      <td>0.1</td>\n      <td>OURS-D</td>\n      <td>3214.77</td>\n      <td>21.0</td>\n      <td>105.0</td>\n      <td>63368</td>\n      <td>103743</td>\n    </tr>\n    <tr>\n      <th>260</th>\n      <td>FC</td>\n      <td>FC_Q100</td>\n      <td>0.1</td>\n      <td>OURS</td>\n      <td>2023.02</td>\n      <td>21.0</td>\n      <td>106.0</td>\n      <td>63368</td>\n      <td>103743</td>\n    </tr>\n    <tr>\n      <th>261</th>\n      <td>FC</td>\n      <td>FC_Q1000</td>\n      <td>0.0</td>\n      <td>NAIVE</td>\n      <td>1136812.70</td>\n      <td>7.0</td>\n      <td>84.0</td>\n      <td>195532</td>\n      <td>1168647</td>\n    </tr>\n    <tr>\n      <th>262</th>\n      <td>FC</td>\n      <td>FC_Q1000</td>\n      <td>0.0</td>\n      <td>SOP</td>\n      <td>64297.80</td>\n      <td>775.9</td>\n      <td>869.0</td>\n      <td>195532</td>\n      <td>1168647</td>\n    </tr>\n    <tr>\n      <th>263</th>\n      <td>FC</td>\n      <td>FC_Q1000</td>\n      <td>0.0</td>\n      <td>pMCSKY</td>\n      <td>53730.08</td>\n      <td>258.9</td>\n      <td>352.0</td>\n      <td>195532</td>\n      <td>1168647</td>\n    </tr>\n    <tr>\n      <th>264</th>\n      <td>FC</td>\n      <td>FC_Q1000</td>\n      <td>0.0</td>\n      <td>OURS-Q</td>\n      <td>4951.32</td>\n      <td>21.9</td>\n      <td>98.0</td>\n      <td>195532</td>\n      <td>1168647</td>\n    </tr>\n    <tr>\n      <th>265</th>\n      <td>FC</td>\n      <td>FC_Q1000</td>\n      <td>0.0</td>\n      <td>OURS-D</td>\n      <td>29122.92</td>\n      <td>22.0</td>\n      <td>99.0</td>\n      <td>195532</td>\n      <td>1168647</td>\n    </tr>\n    <tr>\n      <th>266</th>\n      <td>FC</td>\n      <td>FC_Q1000</td>\n      <td>0.0</td>\n      <td>OURS</td>\n      <td>9059.50</td>\n      <td>22.0</td>\n      <td>99.0</td>\n      <td>195532</td>\n      <td>1168647</td>\n    </tr>\n    <tr>\n      <th>267</th>\n      <td>FC</td>\n      <td>FC_Q1000</td>\n      <td>0.1</td>\n      <td>NAIVE</td>\n      <td>1054443.52</td>\n      <td>7.0</td>\n      <td>84.0</td>\n      <td>167182</td>\n      <td>858677</td>\n    </tr>\n  </tbody>\n</table>\n</div>"
     },
     "execution_count": 3,
     "metadata": {},
     "output_type": "execute_result"
    }
   ],
   "source": [
    "df = preprocessing(dataset)\n",
    "df.tail(20)"
   ]
  },
  {
   "cell_type": "markdown",
   "source": [
    "# Overall Performance\n",
    "###### queryNumber=100, ChgQRatio>0, targetAlgorithm = SOP, pMCSKY, OURS\n",
    "\n",
    "## Overall Cpu Time"
   ],
   "metadata": {
    "collapsed": false
   }
  },
  {
   "cell_type": "code",
   "execution_count": 4,
   "outputs": [],
   "source": [
    "target_alg = ['SOP','pMCSKY','OURS']"
   ],
   "metadata": {
    "collapsed": false,
    "pycharm": {
     "name": "#%%\n"
    }
   }
  },
  {
   "cell_type": "code",
   "execution_count": 5,
   "outputs": [
    {
     "data": {
      "text/plain": "<Figure size 720x144 with 1 Axes>",
      "image/png": "[encoded data removed]"
     },
     "metadata": {
      "needs_background": "light"
     },
     "output_type": "display_data"
    }
   ],
   "source": [
    "dataset_ = dataset.copy()\n",
    "dataname = dataset_.pop()\n",
    "graphdf = df.loc[(df[\"Dataset\"]==dataname)&(df[\"Queryset\"].str.contains(r\"\\_Q100$\")) \\\n",
    "                 & (df['ChgQRatio']>0)].pivot(index=\"Dataset\",columns=\"Method\",values=\"Time\")\n",
    "\n",
    "for dataname in dataset_:\n",
    "    graphdf = pd.concat([graphdf, df.loc[(df[\"Dataset\"]==dataname)&(df[\"Queryset\"].str.contains(r\"\\_Q100$\")) & (df['ChgQRatio']==0)].pivot(index=\"Dataset\",columns=\"Method\",values=\"Time\")])\n",
    "graphdf = graphdf[target_alg]\n",
    "\n",
    "graphdf = graphdf.reindex(index=dataset)\n",
    "plt.rcParams[\"figure.figsize\"] = figsize_overall\n",
    "fig = plt.figure()\n",
    "ax = fig.add_subplot(1,1,1)\n",
    "xpositions = []\n",
    "for i, algname in enumerate(target_alg):\n",
    "    xposition = np.arange(graphdf.shape[0])*barWidth*(len(target_alg)+inter_bar_space) + barWidth*intra_bar_space*i\n",
    "    center = (xposition[0]+xposition[-1])/2\n",
    "    xpositions.append(xposition)\n",
    "    ax.bar(xposition,graphdf.iloc[:,i].tolist(), color = \"white\", width=barWidth,\\\n",
    "           hatch=algo_hatch[algname], edgecolor=algo_color[algname],\\\n",
    "           linewidth=algo_linewidth[algname], zorder=2)\n",
    "ax.grid(b=True,which=\"major\",axis='y',zorder=0)\n",
    "ax.set_yscale(\"log\")\n",
    "ax.set_xlabel(\"\")\n",
    "ax.set_ylabel('CPU time(ms)', fontsize=FONTSIZE_YLABEL)\n",
    "\n",
    "ax.set_xlim([-barWidth,xposition[-1]+barWidth])\n",
    "ax.set_ylim([10,100000])\n",
    "plt.yticks([10,1e3,1e5])\n",
    "xpositions=np.array(xpositions)\n",
    "plt.xticks(np.mean(xpositions,axis=0),dataset)\n",
    "\n",
    "# remove ticks\n",
    "ax.tick_params(axis ='both', which ='both', length = 0)\n",
    "ax.tick_params(axis ='x', labelsize=FONTSIZE_XLABEL, pad=15)\n",
    "ax.tick_params(axis ='y', labelsize=FONTSIZE_TICK)\n",
    "# rotate ticks\n",
    "ax.tick_params(axis ='x', rotation = 0)\n",
    "plt.savefig('Overall_CpuTime.pdf', bbox_inches='tight', format='pdf')"
   ],
   "metadata": {
    "collapsed": false,
    "pycharm": {
     "name": "#%%\n"
    }
   }
  },
  {
   "cell_type": "markdown",
   "source": [
    "## Overall Peak Memory"
   ],
   "metadata": {
    "collapsed": false
   }
  },
  {
   "cell_type": "code",
   "execution_count": 6,
   "outputs": [
    {
     "data": {
      "text/plain": "<Figure size 720x144 with 1 Axes>",
      "image/png": "[encoded data removed]"
     },
     "metadata": {
      "needs_background": "light"
     },
     "output_type": "display_data"
    }
   ],
   "source": [
    "dataset_ = dataset.copy()\n",
    "dataname = dataset_.pop()\n",
    "graphdf = df.loc[(df[\"Dataset\"]==dataname)&(df[\"Queryset\"].str.contains(r\"\\_Q100$\")) \\\n",
    "                 & (df['ChgQRatio']>0)].pivot(index=\"Dataset\",columns=\"Method\",values=\"PeakMem\")\n",
    "\n",
    "for dataname in dataset_:\n",
    "    graphdf = pd.concat([graphdf, df.loc[(df[\"Dataset\"]==dataname)&(df[\"Queryset\"].str.contains(r\"\\_Q100$\")) \\\n",
    "                                         & (df['ChgQRatio']==0)].pivot(index=\"Dataset\",columns=\"Method\",values=\"PeakMem\")])\n",
    "graphdf = graphdf[target_alg]\n",
    "\n",
    "graphdf = graphdf.reindex(index=dataset)\n",
    "\n",
    "plt.rcParams[\"figure.figsize\"] = figsize_overall\n",
    "fig = plt.figure()\n",
    "ax = fig.add_subplot(1,1,1)\n",
    "xpositions = []\n",
    "for i, algname in enumerate(target_alg):\n",
    "    xposition = np.arange(graphdf.shape[0])*barWidth*(len(target_alg)+inter_bar_space) + barWidth*intra_bar_space*i\n",
    "    center = (xposition[0]+xposition[-1])/2\n",
    "    xpositions.append(xposition)\n",
    "    ax.bar(xposition,graphdf.iloc[:,i].tolist(), color = \"white\", width=barWidth,\\\n",
    "           hatch=algo_hatch[algname], edgecolor=algo_color[algname], \\\n",
    "           linewidth=algo_linewidth[algname], zorder=2)\n",
    "ax.grid(b=True,which=\"major\",axis='y',zorder=0)\n",
    "ax.set_yscale(\"log\",basey=2)\n",
    "ax.set_xlabel(\"\")\n",
    "ax.set_ylabel('Peak memory(MB)', fontsize=FONTSIZE_YLABEL)\n",
    "ax.set_xlim([-barWidth,xposition[-1]+barWidth])\n",
    "ax.set_ylim([1,1024])\n",
    "plt.yticks([1,32,1024])\n",
    "ax.set_yticklabels(['1','32','1024'])\n",
    "xpositions=np.array(xpositions)\n",
    "plt.xticks(np.mean(xpositions,axis=0),dataset)\n",
    "\n",
    "# TODO: Put pattern in the bar graph\n",
    "plt.rcParams[\"figure.figsize\"] = figsize_overall\n",
    "# remove ticks\n",
    "ax.tick_params(axis='both', which ='both', length = 0)\n",
    "ax.tick_params(axis='x', labelsize=FONTSIZE_XLABEL, pad=15)\n",
    "ax.tick_params(axis='y', labelsize=FONTSIZE_TICK)\n",
    "# rotate ticks\n",
    "ax.tick_params(axis ='x', rotation = 0)\n",
    "\n",
    "plt.savefig('Overall_PeakMem.pdf', bbox_inches='tight', format='pdf')"
   ],
   "metadata": {
    "collapsed": false,
    "pycharm": {
     "name": "#%%\n"
    }
   }
  },
  {
   "cell_type": "code",
   "execution_count": 7,
   "outputs": [
    {
     "data": {
      "text/plain": "Method     SOP  pMCSKY   OURS\nDataset                      \nSTK      190.0   151.0    5.0\nTAO      244.0   213.0   15.0\nHPC      223.0   181.0   42.0\nGAS      347.0   305.0   41.0\nEM       710.0   665.0   33.0\nFC       349.0   293.0  106.0",
      "text/html": "<div>\n<style scoped>\n    .dataframe tbody tr th:only-of-type {\n        vertical-align: middle;\n    }\n\n    .dataframe tbody tr th {\n        vertical-align: top;\n    }\n\n    .dataframe thead th {\n        text-align: right;\n    }\n</style>\n<table border=\"1\" class=\"dataframe\">\n  <thead>\n    <tr style=\"text-align: right;\">\n      <th>Method</th>\n      <th>SOP</th>\n      <th>pMCSKY</th>\n      <th>OURS</th>\n    </tr>\n    <tr>\n      <th>Dataset</th>\n      <th></th>\n      <th></th>\n      <th></th>\n    </tr>\n  </thead>\n  <tbody>\n    <tr>\n      <th>STK</th>\n      <td>190.0</td>\n      <td>151.0</td>\n      <td>5.0</td>\n    </tr>\n    <tr>\n      <th>TAO</th>\n      <td>244.0</td>\n      <td>213.0</td>\n      <td>15.0</td>\n    </tr>\n    <tr>\n      <th>HPC</th>\n      <td>223.0</td>\n      <td>181.0</td>\n      <td>42.0</td>\n    </tr>\n    <tr>\n      <th>GAS</th>\n      <td>347.0</td>\n      <td>305.0</td>\n      <td>41.0</td>\n    </tr>\n    <tr>\n      <th>EM</th>\n      <td>710.0</td>\n      <td>665.0</td>\n      <td>33.0</td>\n    </tr>\n    <tr>\n      <th>FC</th>\n      <td>349.0</td>\n      <td>293.0</td>\n      <td>106.0</td>\n    </tr>\n  </tbody>\n</table>\n</div>"
     },
     "execution_count": 7,
     "metadata": {},
     "output_type": "execute_result"
    }
   ],
   "source": [
    "graphdf"
   ],
   "metadata": {
    "collapsed": false,
    "pycharm": {
     "name": "#%%\n"
    }
   }
  },
  {
   "cell_type": "markdown",
   "source": [
    "# Overall Legend"
   ],
   "metadata": {
    "collapsed": false,
    "pycharm": {
     "name": "#%% md\n"
    }
   }
  },
  {
   "cell_type": "code",
   "execution_count": 8,
   "outputs": [
    {
     "data": {
      "text/plain": "<Figure size 720x144 with 1 Axes>",
      "image/png": "[encoded data removed]"
     },
     "metadata": {
      "needs_background": "light"
     },
     "output_type": "display_data"
    }
   ],
   "source": [
    "fig = plt.figure()\n",
    "ax = fig.add_subplot(1,1,1)\n",
    "xpositions = []\n",
    "bars = []\n",
    "for i, algname in enumerate(target_alg):\n",
    "    xposition = np.arange(graphdf.shape[0])*barWidth*(graphdf.shape[0]+inter_bar_space) + barWidth*intra_bar_space*i\n",
    "    center = (xposition[0]+xposition[-1])/2\n",
    "    xpositions.append(xposition)\n",
    "    bar = ax.bar(xposition,graphdf.iloc[:,i].tolist(), color = \"white\", width=barWidth,\\\n",
    "               hatch=algo_hatch[algname], edgecolor=algo_color[algname], \\\n",
    "               linewidth=algo_linewidth[algname], zorder=2)\n",
    "    bars.append(bar)\n",
    "\n",
    "legend = ax.legend(handles=bars,labels=target_alg,\\\n",
    "                   bbox_to_anchor=(0., 1.02, 1., .102), loc='upper center',\\\n",
    "                   ncol=len(target_alg), mode=\"expand\", borderaxespad=0.)"
   ],
   "metadata": {
    "collapsed": false,
    "pycharm": {
     "name": "#%%\n"
    }
   }
  },
  {
   "cell_type": "code",
   "execution_count": 9,
   "outputs": [
    {
     "data": {
      "text/plain": "<Figure size 1008x216 with 1 Axes>",
      "image/png": "[encoded data removed]"
     },
     "metadata": {
      "needs_background": "light"
     },
     "output_type": "display_data"
    }
   ],
   "source": [
    "figsize = (14, 3)\n",
    "fig_leg = plt.figure(figsize=figsize)\n",
    "ax_leg = fig_leg.add_subplot(111)\n",
    "# add the legend from the previous axes\n",
    "ax_leg.legend(handles=bars,labels=target_alg, loc='center', ncol=len(target_alg), \\\n",
    "                facecolor='white', framealpha=1,edgecolor='black', fancybox = False,handlelength =3,\\\n",
    "              prop={'size':25}\n",
    "              )\n",
    "# hide the axes frame and the x/y labels\n",
    "ax_leg.axis('off')\n",
    "fig_leg.savefig('Overall_Legend.pdf', bbox_inches='tight', format='pdf')"
   ],
   "metadata": {
    "collapsed": false,
    "pycharm": {
     "name": "#%%\n"
    }
   }
  },
  {
   "cell_type": "markdown",
   "source": [
    "# Changing the number of queries - CPU time, Peak memory\n",
    "###### ChgQRatio>0, targetAlgorithm = SOP, pMCSKY, OURS"
   ],
   "metadata": {
    "collapsed": false,
    "pycharm": {
     "name": "#%% md\n"
    }
   }
  },
  {
   "cell_type": "code",
   "execution_count": null,
   "outputs": [],
   "source": [],
   "metadata": {
    "collapsed": false,
    "pycharm": {
     "name": "#%%\n"
    }
   }
  },
  {
   "cell_type": "markdown",
   "source": [
    "# Changing the stationarity of queries - CPU time, Peak memory\n",
    "###### numQuery=100, targetAlgorithm = SOP, pMCSKY, OURS"
   ],
   "metadata": {
    "collapsed": false
   }
  },
  {
   "cell_type": "code",
   "execution_count": null,
   "outputs": [],
   "source": [],
   "metadata": {
    "collapsed": false,
    "pycharm": {
     "name": "#%%\n"
    }
   }
  }
 ],
 "metadata": {
  "kernelspec": {
   "display_name": "Python 3",
   "language": "python",
   "name": "python3"
  },
  "language_info": {
   "codemirror_mode": {
    "name": "ipython",
    "version": 3
   },
   "file_extension": ".py",
   "mimetype": "text/x-python",
   "name": "python",
   "nbconvert_exporter": "python",
   "pygments_lexer": "ipython3",
   "version": "3.7.3"
  }
 },
 "nbformat": 4,
 "nbformat_minor": 4
}