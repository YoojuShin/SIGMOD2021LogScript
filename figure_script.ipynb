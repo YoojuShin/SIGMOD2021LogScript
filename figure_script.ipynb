{
 "cells": [
  {
   "cell_type": "code",
   "execution_count": 1,
   "metadata": {},
   "outputs": [],
   "source": [
    "import os\n",
    "import numpy as np\n",
    "import pandas as pd\n",
    "import matplotlib.pyplot as plt\n",
    "from matplotlib.ticker import NullFormatter\n",
    "\n",
    "plt.rcParams[\"font.family\"] = \"serif\"\n"
   ]
  },
  {
   "cell_type": "code",
   "execution_count": 2,
   "metadata": {},
   "outputs": [],
   "source": [
    "def preprocessing(path):\n",
    "    f=open(path,'r')\n",
    "    w=open(\"separated.csv\",'w')\n",
    "    for line in f.readlines():\n",
    "        if len(line.split())<9:\n",
    "            continue\n",
    "        tab_sep_line = \"\\t\".join(line.split())\n",
    "        w.write(tab_sep_line+\"\\n\")\n",
    "\n",
    "    w.close()\n",
    "    dataframe = pd.read_csv(os.getcwd()+\"/separated.csv\", sep=\"\\t\")\n",
    "    return dataframe   "
   ]
  },
  {
   "cell_type": "code",
   "execution_count": 3,
   "metadata": {},
   "outputs": [
    {
     "data": {
      "text/plain": "   Dataset   Queryset  ChgQRatio  Method       Time  AvgMem  PeakMem   #Out  \\\n0      STK     STK_Q1        0.0   NAIVE      75.69     3.0      3.0   1235   \n1      STK     STK_Q1        0.0     SOP      52.59     9.0      9.0   1235   \n2      STK     STK_Q1        0.0  pMCSKY      59.03     6.0      7.0   1203   \n3      STK     STK_Q1        0.0  OURS-Q      11.63     5.0      5.0   1235   \n4      STK     STK_Q1        0.0  OURS-D       4.45     5.0      5.0   1235   \n5      STK     STK_Q1        0.0    OURS       2.57     5.0      5.0   1235   \n6      STK     STK_Q1        0.1   NAIVE      75.69     3.0      3.0   1235   \n7      STK     STK_Q1        0.1     SOP      52.00     9.0      9.0   1235   \n8      STK     STK_Q1        0.1  pMCSKY      59.52     6.0      7.0   1203   \n9      STK     STK_Q1        0.1  OURS-Q      10.81     5.0      5.0   1235   \n10     STK     STK_Q1        0.1  OURS-D       3.40     5.0      5.0   1235   \n11     STK     STK_Q1        0.1    OURS       1.67     5.0      5.0   1235   \n12     STK    STK_Q10        0.0   NAIVE    1365.14     3.0      3.0   1720   \n13     STK    STK_Q10        0.0     SOP     410.95    81.7     85.0   1720   \n14     STK    STK_Q10        0.0  pMCSKY     396.07    74.6     80.0   1720   \n15     STK    STK_Q10        0.0  OURS-Q      50.89     5.0      5.0   1720   \n16     STK    STK_Q10        0.0  OURS-D      12.88     5.0      5.0   1720   \n17     STK    STK_Q10        0.0    OURS       4.90     5.0      5.0   1720   \n18     STK    STK_Q10        0.1   NAIVE    2506.20     3.0      3.0   2449   \n19     STK    STK_Q10        0.1     SOP    2635.26    92.5    106.0   2449   \n20     STK    STK_Q10        0.1  pMCSKY    2474.76    64.9     90.0   2449   \n21     STK    STK_Q10        0.1  OURS-Q      98.61     5.0      5.0   2449   \n22     STK    STK_Q10        0.1  OURS-D      11.44     5.0      6.0   2449   \n23     STK    STK_Q10        0.1    OURS       5.56     5.0      5.0   2449   \n24     STK   STK_Q100        0.0   NAIVE   17886.19     3.0      4.0  16397   \n25     STK   STK_Q100        0.0     SOP    3551.09   176.9    190.0  16397   \n26     STK   STK_Q100        0.0  pMCSKY    3454.77   135.9    151.0  16397   \n27     STK   STK_Q100        0.0  OURS-Q     689.32     5.0      6.0  16397   \n28     STK   STK_Q100        0.0  OURS-D      66.03     5.0      6.0  16397   \n29     STK   STK_Q100        0.0    OURS      19.89     5.0      5.0  16397   \n30     STK   STK_Q100        0.1   NAIVE   18366.13     3.0      4.0  13557   \n31     STK   STK_Q100        0.1     SOP   16442.15   181.1    195.0  13557   \n32     STK   STK_Q100        0.1  pMCSKY   16418.08   120.4    139.0  13557   \n33     STK   STK_Q100        0.1  OURS-Q     867.84     5.0      6.0  13557   \n34     STK   STK_Q100        0.1  OURS-D      55.36     5.0      6.0  13558   \n35     STK   STK_Q100        0.1    OURS      13.97     5.0      5.0  13558   \n36     STK  STK_Q1000        0.0   NAIVE  154130.30     4.0      5.0  41392   \n37     STK  STK_Q1000        0.0     SOP   30648.39   672.6    676.0  41392   \n38     STK  STK_Q1000        0.0  pMCSKY   27947.74   155.7    173.0  41392   \n39     STK  STK_Q1000        0.0  OURS-Q    2817.12     6.0      6.0  41392   \n40     STK  STK_Q1000        0.0  OURS-D     544.15     6.0      7.0  41392   \n41     STK  STK_Q1000        0.0    OURS     112.13     6.0      7.0  41392   \n\n     #OutQ  \n0     1235  \n1     1235  \n2     1203  \n3     1235  \n4     1235  \n5     1235  \n6     1235  \n7     1235  \n8     1203  \n9     1235  \n10    1235  \n11    1235  \n12    2429  \n13    2429  \n14    2429  \n15    2429  \n16    2429  \n17    2429  \n18    3537  \n19    3537  \n20    3537  \n21    3537  \n22    3537  \n23    3537  \n24   51082  \n25   51082  \n26   51082  \n27   51082  \n28   51082  \n29   51082  \n30   40622  \n31   40622  \n32   40622  \n33   40622  \n34   40623  \n35   40623  \n36  351385  \n37  351385  \n38  351385  \n39  351385  \n40  351385  \n41  351385  ",
      "text/html": "<div>\n<style scoped>\n    .dataframe tbody tr th:only-of-type {\n        vertical-align: middle;\n    }\n\n    .dataframe tbody tr th {\n        vertical-align: top;\n    }\n\n    .dataframe thead th {\n        text-align: right;\n    }\n</style>\n<table border=\"1\" class=\"dataframe\">\n  <thead>\n    <tr style=\"text-align: right;\">\n      <th></th>\n      <th>Dataset</th>\n      <th>Queryset</th>\n      <th>ChgQRatio</th>\n      <th>Method</th>\n      <th>Time</th>\n      <th>AvgMem</th>\n      <th>PeakMem</th>\n      <th>#Out</th>\n      <th>#OutQ</th>\n    </tr>\n  </thead>\n  <tbody>\n    <tr>\n      <th>0</th>\n      <td>STK</td>\n      <td>STK_Q1</td>\n      <td>0.0</td>\n      <td>NAIVE</td>\n      <td>75.69</td>\n      <td>3.0</td>\n      <td>3.0</td>\n      <td>1235</td>\n      <td>1235</td>\n    </tr>\n    <tr>\n      <th>1</th>\n      <td>STK</td>\n      <td>STK_Q1</td>\n      <td>0.0</td>\n      <td>SOP</td>\n      <td>52.59</td>\n      <td>9.0</td>\n      <td>9.0</td>\n      <td>1235</td>\n      <td>1235</td>\n    </tr>\n    <tr>\n      <th>2</th>\n      <td>STK</td>\n      <td>STK_Q1</td>\n      <td>0.0</td>\n      <td>pMCSKY</td>\n      <td>59.03</td>\n      <td>6.0</td>\n      <td>7.0</td>\n      <td>1203</td>\n      <td>1203</td>\n    </tr>\n    <tr>\n      <th>3</th>\n      <td>STK</td>\n      <td>STK_Q1</td>\n      <td>0.0</td>\n      <td>OURS-Q</td>\n      <td>11.63</td>\n      <td>5.0</td>\n      <td>5.0</td>\n      <td>1235</td>\n      <td>1235</td>\n    </tr>\n    <tr>\n      <th>4</th>\n      <td>STK</td>\n      <td>STK_Q1</td>\n      <td>0.0</td>\n      <td>OURS-D</td>\n      <td>4.45</td>\n      <td>5.0</td>\n      <td>5.0</td>\n      <td>1235</td>\n      <td>1235</td>\n    </tr>\n    <tr>\n      <th>5</th>\n      <td>STK</td>\n      <td>STK_Q1</td>\n      <td>0.0</td>\n      <td>OURS</td>\n      <td>2.57</td>\n      <td>5.0</td>\n      <td>5.0</td>\n      <td>1235</td>\n      <td>1235</td>\n    </tr>\n    <tr>\n      <th>6</th>\n      <td>STK</td>\n      <td>STK_Q1</td>\n      <td>0.1</td>\n      <td>NAIVE</td>\n      <td>75.69</td>\n      <td>3.0</td>\n      <td>3.0</td>\n      <td>1235</td>\n      <td>1235</td>\n    </tr>\n    <tr>\n      <th>7</th>\n      <td>STK</td>\n      <td>STK_Q1</td>\n      <td>0.1</td>\n      <td>SOP</td>\n      <td>52.00</td>\n      <td>9.0</td>\n      <td>9.0</td>\n      <td>1235</td>\n      <td>1235</td>\n    </tr>\n    <tr>\n      <th>8</th>\n      <td>STK</td>\n      <td>STK_Q1</td>\n      <td>0.1</td>\n      <td>pMCSKY</td>\n      <td>59.52</td>\n      <td>6.0</td>\n      <td>7.0</td>\n      <td>1203</td>\n      <td>1203</td>\n    </tr>\n    <tr>\n      <th>9</th>\n      <td>STK</td>\n      <td>STK_Q1</td>\n      <td>0.1</td>\n      <td>OURS-Q</td>\n      <td>10.81</td>\n      <td>5.0</td>\n      <td>5.0</td>\n      <td>1235</td>\n      <td>1235</td>\n    </tr>\n    <tr>\n      <th>10</th>\n      <td>STK</td>\n      <td>STK_Q1</td>\n      <td>0.1</td>\n      <td>OURS-D</td>\n      <td>3.40</td>\n      <td>5.0</td>\n      <td>5.0</td>\n      <td>1235</td>\n      <td>1235</td>\n    </tr>\n    <tr>\n      <th>11</th>\n      <td>STK</td>\n      <td>STK_Q1</td>\n      <td>0.1</td>\n      <td>OURS</td>\n      <td>1.67</td>\n      <td>5.0</td>\n      <td>5.0</td>\n      <td>1235</td>\n      <td>1235</td>\n    </tr>\n    <tr>\n      <th>12</th>\n      <td>STK</td>\n      <td>STK_Q10</td>\n      <td>0.0</td>\n      <td>NAIVE</td>\n      <td>1365.14</td>\n      <td>3.0</td>\n      <td>3.0</td>\n      <td>1720</td>\n      <td>2429</td>\n    </tr>\n    <tr>\n      <th>13</th>\n      <td>STK</td>\n      <td>STK_Q10</td>\n      <td>0.0</td>\n      <td>SOP</td>\n      <td>410.95</td>\n      <td>81.7</td>\n      <td>85.0</td>\n      <td>1720</td>\n      <td>2429</td>\n    </tr>\n    <tr>\n      <th>14</th>\n      <td>STK</td>\n      <td>STK_Q10</td>\n      <td>0.0</td>\n      <td>pMCSKY</td>\n      <td>396.07</td>\n      <td>74.6</td>\n      <td>80.0</td>\n      <td>1720</td>\n      <td>2429</td>\n    </tr>\n    <tr>\n      <th>15</th>\n      <td>STK</td>\n      <td>STK_Q10</td>\n      <td>0.0</td>\n      <td>OURS-Q</td>\n      <td>50.89</td>\n      <td>5.0</td>\n      <td>5.0</td>\n      <td>1720</td>\n      <td>2429</td>\n    </tr>\n    <tr>\n      <th>16</th>\n      <td>STK</td>\n      <td>STK_Q10</td>\n      <td>0.0</td>\n      <td>OURS-D</td>\n      <td>12.88</td>\n      <td>5.0</td>\n      <td>5.0</td>\n      <td>1720</td>\n      <td>2429</td>\n    </tr>\n    <tr>\n      <th>17</th>\n      <td>STK</td>\n      <td>STK_Q10</td>\n      <td>0.0</td>\n      <td>OURS</td>\n      <td>4.90</td>\n      <td>5.0</td>\n      <td>5.0</td>\n      <td>1720</td>\n      <td>2429</td>\n    </tr>\n    <tr>\n      <th>18</th>\n      <td>STK</td>\n      <td>STK_Q10</td>\n      <td>0.1</td>\n      <td>NAIVE</td>\n      <td>2506.20</td>\n      <td>3.0</td>\n      <td>3.0</td>\n      <td>2449</td>\n      <td>3537</td>\n    </tr>\n    <tr>\n      <th>19</th>\n      <td>STK</td>\n      <td>STK_Q10</td>\n      <td>0.1</td>\n      <td>SOP</td>\n      <td>2635.26</td>\n      <td>92.5</td>\n      <td>106.0</td>\n      <td>2449</td>\n      <td>3537</td>\n    </tr>\n    <tr>\n      <th>20</th>\n      <td>STK</td>\n      <td>STK_Q10</td>\n      <td>0.1</td>\n      <td>pMCSKY</td>\n      <td>2474.76</td>\n      <td>64.9</td>\n      <td>90.0</td>\n      <td>2449</td>\n      <td>3537</td>\n    </tr>\n    <tr>\n      <th>21</th>\n      <td>STK</td>\n      <td>STK_Q10</td>\n      <td>0.1</td>\n      <td>OURS-Q</td>\n      <td>98.61</td>\n      <td>5.0</td>\n      <td>5.0</td>\n      <td>2449</td>\n      <td>3537</td>\n    </tr>\n    <tr>\n      <th>22</th>\n      <td>STK</td>\n      <td>STK_Q10</td>\n      <td>0.1</td>\n      <td>OURS-D</td>\n      <td>11.44</td>\n      <td>5.0</td>\n      <td>6.0</td>\n      <td>2449</td>\n      <td>3537</td>\n    </tr>\n    <tr>\n      <th>23</th>\n      <td>STK</td>\n      <td>STK_Q10</td>\n      <td>0.1</td>\n      <td>OURS</td>\n      <td>5.56</td>\n      <td>5.0</td>\n      <td>5.0</td>\n      <td>2449</td>\n      <td>3537</td>\n    </tr>\n    <tr>\n      <th>24</th>\n      <td>STK</td>\n      <td>STK_Q100</td>\n      <td>0.0</td>\n      <td>NAIVE</td>\n      <td>17886.19</td>\n      <td>3.0</td>\n      <td>4.0</td>\n      <td>16397</td>\n      <td>51082</td>\n    </tr>\n    <tr>\n      <th>25</th>\n      <td>STK</td>\n      <td>STK_Q100</td>\n      <td>0.0</td>\n      <td>SOP</td>\n      <td>3551.09</td>\n      <td>176.9</td>\n      <td>190.0</td>\n      <td>16397</td>\n      <td>51082</td>\n    </tr>\n    <tr>\n      <th>26</th>\n      <td>STK</td>\n      <td>STK_Q100</td>\n      <td>0.0</td>\n      <td>pMCSKY</td>\n      <td>3454.77</td>\n      <td>135.9</td>\n      <td>151.0</td>\n      <td>16397</td>\n      <td>51082</td>\n    </tr>\n    <tr>\n      <th>27</th>\n      <td>STK</td>\n      <td>STK_Q100</td>\n      <td>0.0</td>\n      <td>OURS-Q</td>\n      <td>689.32</td>\n      <td>5.0</td>\n      <td>6.0</td>\n      <td>16397</td>\n      <td>51082</td>\n    </tr>\n    <tr>\n      <th>28</th>\n      <td>STK</td>\n      <td>STK_Q100</td>\n      <td>0.0</td>\n      <td>OURS-D</td>\n      <td>66.03</td>\n      <td>5.0</td>\n      <td>6.0</td>\n      <td>16397</td>\n      <td>51082</td>\n    </tr>\n    <tr>\n      <th>29</th>\n      <td>STK</td>\n      <td>STK_Q100</td>\n      <td>0.0</td>\n      <td>OURS</td>\n      <td>19.89</td>\n      <td>5.0</td>\n      <td>5.0</td>\n      <td>16397</td>\n      <td>51082</td>\n    </tr>\n    <tr>\n      <th>30</th>\n      <td>STK</td>\n      <td>STK_Q100</td>\n      <td>0.1</td>\n      <td>NAIVE</td>\n      <td>18366.13</td>\n      <td>3.0</td>\n      <td>4.0</td>\n      <td>13557</td>\n      <td>40622</td>\n    </tr>\n    <tr>\n      <th>31</th>\n      <td>STK</td>\n      <td>STK_Q100</td>\n      <td>0.1</td>\n      <td>SOP</td>\n      <td>16442.15</td>\n      <td>181.1</td>\n      <td>195.0</td>\n      <td>13557</td>\n      <td>40622</td>\n    </tr>\n    <tr>\n      <th>32</th>\n      <td>STK</td>\n      <td>STK_Q100</td>\n      <td>0.1</td>\n      <td>pMCSKY</td>\n      <td>16418.08</td>\n      <td>120.4</td>\n      <td>139.0</td>\n      <td>13557</td>\n      <td>40622</td>\n    </tr>\n    <tr>\n      <th>33</th>\n      <td>STK</td>\n      <td>STK_Q100</td>\n      <td>0.1</td>\n      <td>OURS-Q</td>\n      <td>867.84</td>\n      <td>5.0</td>\n      <td>6.0</td>\n      <td>13557</td>\n      <td>40622</td>\n    </tr>\n    <tr>\n      <th>34</th>\n      <td>STK</td>\n      <td>STK_Q100</td>\n      <td>0.1</td>\n      <td>OURS-D</td>\n      <td>55.36</td>\n      <td>5.0</td>\n      <td>6.0</td>\n      <td>13558</td>\n      <td>40623</td>\n    </tr>\n    <tr>\n      <th>35</th>\n      <td>STK</td>\n      <td>STK_Q100</td>\n      <td>0.1</td>\n      <td>OURS</td>\n      <td>13.97</td>\n      <td>5.0</td>\n      <td>5.0</td>\n      <td>13558</td>\n      <td>40623</td>\n    </tr>\n    <tr>\n      <th>36</th>\n      <td>STK</td>\n      <td>STK_Q1000</td>\n      <td>0.0</td>\n      <td>NAIVE</td>\n      <td>154130.30</td>\n      <td>4.0</td>\n      <td>5.0</td>\n      <td>41392</td>\n      <td>351385</td>\n    </tr>\n    <tr>\n      <th>37</th>\n      <td>STK</td>\n      <td>STK_Q1000</td>\n      <td>0.0</td>\n      <td>SOP</td>\n      <td>30648.39</td>\n      <td>672.6</td>\n      <td>676.0</td>\n      <td>41392</td>\n      <td>351385</td>\n    </tr>\n    <tr>\n      <th>38</th>\n      <td>STK</td>\n      <td>STK_Q1000</td>\n      <td>0.0</td>\n      <td>pMCSKY</td>\n      <td>27947.74</td>\n      <td>155.7</td>\n      <td>173.0</td>\n      <td>41392</td>\n      <td>351385</td>\n    </tr>\n    <tr>\n      <th>39</th>\n      <td>STK</td>\n      <td>STK_Q1000</td>\n      <td>0.0</td>\n      <td>OURS-Q</td>\n      <td>2817.12</td>\n      <td>6.0</td>\n      <td>6.0</td>\n      <td>41392</td>\n      <td>351385</td>\n    </tr>\n    <tr>\n      <th>40</th>\n      <td>STK</td>\n      <td>STK_Q1000</td>\n      <td>0.0</td>\n      <td>OURS-D</td>\n      <td>544.15</td>\n      <td>6.0</td>\n      <td>7.0</td>\n      <td>41392</td>\n      <td>351385</td>\n    </tr>\n    <tr>\n      <th>41</th>\n      <td>STK</td>\n      <td>STK_Q1000</td>\n      <td>0.0</td>\n      <td>OURS</td>\n      <td>112.13</td>\n      <td>6.0</td>\n      <td>7.0</td>\n      <td>41392</td>\n      <td>351385</td>\n    </tr>\n  </tbody>\n</table>\n</div>"
     },
     "execution_count": 3,
     "metadata": {},
     "output_type": "execute_result"
    }
   ],
   "source": [
    "df = preprocessing(\"logsample.txt\")\n",
    "df"
   ]
  },
  {
   "cell_type": "code",
   "execution_count": 4,
   "metadata": {},
   "outputs": [],
   "source": [
    "dataset = [\"STK\",\"TAO\",\"HPC\",\"EM\",\"FC\"] # will be added soon\n",
    "\n",
    "algo_color = {'NAIVE': 'black',\n",
    "              'SOP': '#4BACC6',\n",
    "              'pMCSKY': '#1F497D',\n",
    "              'OURS-Q': '#F79646',\n",
    "              'OURS-D': '#9BBB59',\n",
    "              'OURS': '#C0504D'}\n",
    "\n",
    "fontsize_Tick=10\n",
    "fontsize_xLabel=20\n",
    "fontsize_yLabel=20\n",
    "\n",
    "algo_line = {'NAIVE': '-',\n",
    "              'SOP': '-',\n",
    "              'pMCSKY': '-',\n",
    "              'OURS-Q': '--',\n",
    "              'OURS-D': '--',\n",
    "              'OURS': '-'}\n",
    "\n",
    "basic_linewidth = 1.5\n",
    "algo_linewidth = {'NAIVE': basic_linewidth,\n",
    "                  'SOP': basic_linewidth,\n",
    "                  'pMCSKY': basic_linewidth,\n",
    "                  'OURS-Q': basic_linewidth/2,\n",
    "                  'OURS-D': basic_linewidth/2,\n",
    "                  'OURS': basic_linewidth}"
   ]
  },
  {
   "cell_type": "code",
   "execution_count": 5,
   "metadata": {},
   "outputs": [],
   "source": [
    "# for dataname in dataset:\n",
    "dataname = \"STK\"\n",
    "graphdf = df.loc[(df[\"Dataset\"]==dataname) & (df[\"Queryset\"]==(dataname)+\"_Q100\") & (df['ChgQRatio']==0)].pivot(index=\"Dataset\",columns=\"Method\",values=\"Time\")\n",
    "graphdf = graphdf[algo_color.keys()]"
   ]
  },
  {
   "cell_type": "code",
   "execution_count": 6,
   "metadata": {
    "pycharm": {
     "name": "#%%\n"
    }
   },
   "outputs": [
    {
     "data": {
      "text/plain": "<Figure size 432x288 with 1 Axes>",
      "image/png": "[encoded data removed]"
     },
     "metadata": {
      "needs_background": "light"
     },
     "output_type": "display_data"
    }
   ],
   "source": [
    "ax = graphdf.plot(kind='bar',color=algo_color.values())\n",
    "# plt figure settings\n",
    "ax.grid(b=True,which=\"major\",axis='y')\n",
    "ax.set_yscale(\"log\")\n",
    "ax.set_xlabel(\"\")\n",
    "ax.set_ylabel('CPU time(s)', fontsize=fontsize_xLabel)\n",
    "\n",
    "# TODO: Put pattern in the bar graph\n",
    "\n",
    "# remove ticks\n",
    "ax.tick_params(axis ='both', which ='both', length = 0)\n",
    "ax.tick_params(axis ='x', labelsize=fontsize_xLabel)\n",
    "# rotate ticks\n",
    "ax.tick_params(axis ='x', rotation = 0)\n",
    "ax.get_legend().remove()\n",
    "# color map for each bar\n",
    "\n",
    "plt.savefig('asdf.pdf', bbox_inches='tight', format='pdf')\n"
   ]
  }
 ],
 "metadata": {
  "kernelspec": {
   "display_name": "Python 3",
   "language": "python",
   "name": "python3"
  },
  "language_info": {
   "codemirror_mode": {
    "name": "ipython",
    "version": 3
   },
   "file_extension": ".py",
   "mimetype": "text/x-python",
   "name": "python",
   "nbconvert_exporter": "python",
   "pygments_lexer": "ipython3",
   "version": "3.7.3"
  }
 },
 "nbformat": 4,
 "nbformat_minor": 4
}