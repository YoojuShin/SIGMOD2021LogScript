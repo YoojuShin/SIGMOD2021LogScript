{
 "cells": [
  {
   "cell_type": "code",
   "execution_count": 2,
   "metadata": {},
   "outputs": [],
   "source": [
    "import os\n",
    "import numpy as np\n",
    "import pandas as pd\n",
    "import matplotlib.pyplot as plt\n",
    "from matplotlib.ticker import NullFormatter\n",
    "\n",
    "plt.rcParams[\"font.family\"] = \"serif\"\n",
    "\n",
    "dataset = [\"STK\",\"TAO\",\"HPC\",\"EM\",\"FC\"] # will be added soon"
   ]
  },
  {
   "cell_type": "code",
   "execution_count": 3,
   "metadata": {},
   "outputs": [],
   "source": [
    "def preprocessing(pathList):\n",
    "    headerf = open(pathList[0]+\".txt\")\n",
    "    header = headerf.readline()\n",
    "    header = \"\\t\".join(header.split())\n",
    "    w=open(\"separated.csv\",'w')\n",
    "    w.write(header+\"\\n\")\n",
    "    for path in pathList:\n",
    "        f=open(path+\".txt\",'r')\n",
    "        i = -1\n",
    "        for line in f.readlines():\n",
    "            i += 1\n",
    "            if (len(line.split())<9) or (i<1):\n",
    "                continue\n",
    "            tab_sep_line = \"\\t\".join(line.split())\n",
    "            w.write(tab_sep_line+\"\\n\")\n",
    "\n",
    "    w.close()\n",
    "    dataframe = pd.read_csv(os.getcwd()+\"/separated.csv\", sep=\"\\t\")\n",
    "    return dataframe   "
   ]
  },
  {
   "cell_type": "code",
   "execution_count": 4,
   "metadata": {},
   "outputs": [
    {
     "data": {
      "text/plain": "  Dataset Queryset  ChgQRatio  Method   Time  AvgMem  PeakMem  #Out  #OutQ\n0     STK   STK_Q1        0.0   NAIVE  75.69     3.0      3.0  1235   1235\n1     STK   STK_Q1        0.0     SOP  52.59     9.0      9.0  1235   1235\n2     STK   STK_Q1        0.0  pMCSKY  59.03     6.0      7.0  1203   1203\n3     STK   STK_Q1        0.0  OURS-Q  11.63     5.0      5.0  1235   1235\n4     STK   STK_Q1        0.0  OURS-D   4.45     5.0      5.0  1235   1235",
      "text/html": "<div>\n<style scoped>\n    .dataframe tbody tr th:only-of-type {\n        vertical-align: middle;\n    }\n\n    .dataframe tbody tr th {\n        vertical-align: top;\n    }\n\n    .dataframe thead th {\n        text-align: right;\n    }\n</style>\n<table border=\"1\" class=\"dataframe\">\n  <thead>\n    <tr style=\"text-align: right;\">\n      <th></th>\n      <th>Dataset</th>\n      <th>Queryset</th>\n      <th>ChgQRatio</th>\n      <th>Method</th>\n      <th>Time</th>\n      <th>AvgMem</th>\n      <th>PeakMem</th>\n      <th>#Out</th>\n      <th>#OutQ</th>\n    </tr>\n  </thead>\n  <tbody>\n    <tr>\n      <th>0</th>\n      <td>STK</td>\n      <td>STK_Q1</td>\n      <td>0.0</td>\n      <td>NAIVE</td>\n      <td>75.69</td>\n      <td>3.0</td>\n      <td>3.0</td>\n      <td>1235</td>\n      <td>1235</td>\n    </tr>\n    <tr>\n      <th>1</th>\n      <td>STK</td>\n      <td>STK_Q1</td>\n      <td>0.0</td>\n      <td>SOP</td>\n      <td>52.59</td>\n      <td>9.0</td>\n      <td>9.0</td>\n      <td>1235</td>\n      <td>1235</td>\n    </tr>\n    <tr>\n      <th>2</th>\n      <td>STK</td>\n      <td>STK_Q1</td>\n      <td>0.0</td>\n      <td>pMCSKY</td>\n      <td>59.03</td>\n      <td>6.0</td>\n      <td>7.0</td>\n      <td>1203</td>\n      <td>1203</td>\n    </tr>\n    <tr>\n      <th>3</th>\n      <td>STK</td>\n      <td>STK_Q1</td>\n      <td>0.0</td>\n      <td>OURS-Q</td>\n      <td>11.63</td>\n      <td>5.0</td>\n      <td>5.0</td>\n      <td>1235</td>\n      <td>1235</td>\n    </tr>\n    <tr>\n      <th>4</th>\n      <td>STK</td>\n      <td>STK_Q1</td>\n      <td>0.0</td>\n      <td>OURS-D</td>\n      <td>4.45</td>\n      <td>5.0</td>\n      <td>5.0</td>\n      <td>1235</td>\n      <td>1235</td>\n    </tr>\n  </tbody>\n</table>\n</div>"
     },
     "execution_count": 4,
     "metadata": {},
     "output_type": "execute_result"
    }
   ],
   "source": [
    "df = preprocessing(dataset)\n",
    "df.head()"
   ]
  },
  {
   "cell_type": "code",
   "execution_count": 5,
   "metadata": {},
   "outputs": [],
   "source": [
    "\n",
    "\n",
    "algo_color = {'NAIVE': 'black',\n",
    "              'SOP': '#4BACC6',\n",
    "              'pMCSKY': '#1F497D',\n",
    "              'OURS-Q': '#F79646',\n",
    "              'OURS-D': '#9BBB59',\n",
    "              'OURS': '#C0504D'}\n",
    "\n",
    "fontsize_Tick=10\n",
    "fontsize_xLabel=20\n",
    "fontsize_yLabel=20\n",
    "\n",
    "algo_line = {'NAIVE': '-',\n",
    "              'SOP': '-',\n",
    "              'pMCSKY': '-',\n",
    "              'OURS-Q': '--',\n",
    "              'OURS-D': '--',\n",
    "              'OURS': '-'}\n",
    "\n",
    "basic_linewidth = 1.5\n",
    "algo_linewidth = {'NAIVE': basic_linewidth,\n",
    "                  'SOP': basic_linewidth,\n",
    "                  'pMCSKY': basic_linewidth,\n",
    "                  'OURS-Q': basic_linewidth/2,\n",
    "                  'OURS-D': basic_linewidth/2,\n",
    "                  'OURS': basic_linewidth}"
   ]
  },
  {
   "cell_type": "code",
   "execution_count": 21,
   "metadata": {},
   "outputs": [
    {
     "name": "stdout",
     "output_type": "stream",
     "text": [
      "Method      NAIVE     OURS   OURS-D  OURS-Q      SOP   pMCSKY\n",
      "Dataset                                                      \n",
      "FC       92440.97  1267.72  1919.78   645.1  6906.65  6488.66\n",
      "Method      NAIVE     OURS   OURS-D  OURS-Q      SOP   pMCSKY\n",
      "Dataset                                                      \n",
      "FC       92440.97  1267.72  1919.78  645.10  6906.65  6488.66\n",
      "STK      17886.19    19.89    66.03  689.32  3551.09  3454.77\n",
      "Method      NAIVE     OURS   OURS-D  OURS-Q      SOP   pMCSKY\n",
      "Dataset                                                      \n",
      "FC       92440.97  1267.72  1919.78  645.10  6906.65  6488.66\n",
      "STK      17886.19    19.89    66.03  689.32  3551.09  3454.77\n",
      "TAO      11905.54    72.03   423.12  606.38  3967.52  3794.18\n",
      "Method      NAIVE     OURS   OURS-D  OURS-Q      SOP   pMCSKY\n",
      "Dataset                                                      \n",
      "FC       92440.97  1267.72  1919.78  645.10  6906.65  6488.66\n",
      "STK      17886.19    19.89    66.03  689.32  3551.09  3454.77\n",
      "TAO      11905.54    72.03   423.12  606.38  3967.52  3794.18\n",
      "HPC      18577.20   594.04  6727.60  411.61  3728.84  3374.38\n",
      "Method      NAIVE     OURS   OURS-D   OURS-Q       SOP    pMCSKY\n",
      "Dataset                                                         \n",
      "FC       92440.97  1267.72  1919.78   645.10   6906.65   6488.66\n",
      "STK      17886.19    19.89    66.03   689.32   3551.09   3454.77\n",
      "TAO      11905.54    72.03   423.12   606.38   3967.52   3794.18\n",
      "HPC      18577.20   594.04  6727.60   411.61   3728.84   3374.38\n",
      "EM       28230.84  2921.49  9024.56  3524.85  13642.48  12924.29\n"
     ]
    },
    {
     "data": {
      "text/plain": "Method      NAIVE       SOP    pMCSKY   OURS-Q   OURS-D     OURS\nDataset                                                         \nFC       92440.97   6906.65   6488.66   645.10  1919.78  1267.72\nSTK      17886.19   3551.09   3454.77   689.32    66.03    19.89\nTAO      11905.54   3967.52   3794.18   606.38   423.12    72.03\nHPC      18577.20   3728.84   3374.38   411.61  6727.60   594.04\nEM       28230.84  13642.48  12924.29  3524.85  9024.56  2921.49",
      "text/html": "<div>\n<style scoped>\n    .dataframe tbody tr th:only-of-type {\n        vertical-align: middle;\n    }\n\n    .dataframe tbody tr th {\n        vertical-align: top;\n    }\n\n    .dataframe thead th {\n        text-align: right;\n    }\n</style>\n<table border=\"1\" class=\"dataframe\">\n  <thead>\n    <tr style=\"text-align: right;\">\n      <th>Method</th>\n      <th>NAIVE</th>\n      <th>SOP</th>\n      <th>pMCSKY</th>\n      <th>OURS-Q</th>\n      <th>OURS-D</th>\n      <th>OURS</th>\n    </tr>\n    <tr>\n      <th>Dataset</th>\n      <th></th>\n      <th></th>\n      <th></th>\n      <th></th>\n      <th></th>\n      <th></th>\n    </tr>\n  </thead>\n  <tbody>\n    <tr>\n      <th>FC</th>\n      <td>92440.97</td>\n      <td>6906.65</td>\n      <td>6488.66</td>\n      <td>645.10</td>\n      <td>1919.78</td>\n      <td>1267.72</td>\n    </tr>\n    <tr>\n      <th>STK</th>\n      <td>17886.19</td>\n      <td>3551.09</td>\n      <td>3454.77</td>\n      <td>689.32</td>\n      <td>66.03</td>\n      <td>19.89</td>\n    </tr>\n    <tr>\n      <th>TAO</th>\n      <td>11905.54</td>\n      <td>3967.52</td>\n      <td>3794.18</td>\n      <td>606.38</td>\n      <td>423.12</td>\n      <td>72.03</td>\n    </tr>\n    <tr>\n      <th>HPC</th>\n      <td>18577.20</td>\n      <td>3728.84</td>\n      <td>3374.38</td>\n      <td>411.61</td>\n      <td>6727.60</td>\n      <td>594.04</td>\n    </tr>\n    <tr>\n      <th>EM</th>\n      <td>28230.84</td>\n      <td>13642.48</td>\n      <td>12924.29</td>\n      <td>3524.85</td>\n      <td>9024.56</td>\n      <td>2921.49</td>\n    </tr>\n  </tbody>\n</table>\n</div>"
     },
     "execution_count": 21,
     "metadata": {},
     "output_type": "execute_result"
    }
   ],
   "source": [
    "dataset = [\"STK\",\"TAO\",\"HPC\",\"EM\",\"FC\"] # will be added soon\n",
    "dataname = dataset.pop()\n",
    "graphdf = df.loc[(df[\"Dataset\"]==dataname)&(df[\"Queryset\"].str.contains(r\"\\_Q100$\")) & (df['ChgQRatio']==0)].pivot(index=\"Dataset\",columns=\"Method\",values=\"Time\")\n",
    "\n",
    "for dataname in dataset:\n",
    "    graphdf = pd.concat([graphdf, df.loc[(df[\"Dataset\"]==dataname)&(df[\"Queryset\"].str.contains(r\"\\_Q100$\")) & (df['ChgQRatio']==0)].pivot(index=\"Dataset\",columns=\"Method\",values=\"Time\")])\n",
    "graphdf = graphdf[algo_color.keys()]\n",
    "\n",
    "graphdf.head()"
   ]
  },
  {
   "cell_type": "code",
   "execution_count": 22,
   "metadata": {
    "pycharm": {
     "name": "#%%\n"
    }
   },
   "outputs": [
    {
     "data": {
      "text/plain": "<Figure size 432x288 with 1 Axes>",
      "image/png": "[encoded data removed]"
     },
     "metadata": {
      "needs_background": "light"
     },
     "output_type": "display_data"
    }
   ],
   "source": [
    "ax = graphdf.plot(kind='bar',color=algo_color.values())\n",
    "# plt figure settings\n",
    "ax.grid(b=True,which=\"major\",axis='y')\n",
    "ax.set_yscale(\"log\")\n",
    "ax.set_xlabel(\"\")\n",
    "ax.set_ylabel('CPU time(s)', fontsize=fontsize_xLabel)\n",
    "\n",
    "# TODO: Put pattern in the bar graph\n",
    "\n",
    "# remove ticks\n",
    "ax.tick_params(axis ='both', which ='both', length = 0)\n",
    "ax.tick_params(axis ='x', labelsize=fontsize_xLabel)\n",
    "# rotate ticks\n",
    "ax.tick_params(axis ='x', rotation = 0)\n",
    "ax.get_legend().remove()\n",
    "# color map for each bar\n",
    "\n",
    "plt.savefig('asdf.pdf', bbox_inches='tight', format='pdf')\n"
   ]
  }
 ],
 "metadata": {
  "kernelspec": {
   "display_name": "Python 3",
   "language": "python",
   "name": "python3"
  },
  "language_info": {
   "codemirror_mode": {
    "name": "ipython",
    "version": 3
   },
   "file_extension": ".py",
   "mimetype": "text/x-python",
   "name": "python",
   "nbconvert_exporter": "python",
   "pygments_lexer": "ipython3",
   "version": "3.7.3"
  }
 },
 "nbformat": 4,
 "nbformat_minor": 4
}